{
 "cells": [
  {
   "cell_type": "markdown",
   "id": "f93454f6",
   "metadata": {},
   "source": [
    "### Numpy"
   ]
  },
  {
   "cell_type": "code",
   "execution_count": 10,
   "id": "be6f3e24",
   "metadata": {},
   "outputs": [],
   "source": [
    "import numpy as np"
   ]
  },
  {
   "cell_type": "code",
   "execution_count": 12,
   "id": "0d9b054f",
   "metadata": {},
   "outputs": [],
   "source": [
    "list1 = [1,2,3,4,5]"
   ]
  },
  {
   "cell_type": "code",
   "execution_count": 14,
   "id": "b90f82f1",
   "metadata": {},
   "outputs": [],
   "source": [
    "x = np.array(list1)"
   ]
  },
  {
   "cell_type": "code",
   "execution_count": 15,
   "id": "fae4c858",
   "metadata": {},
   "outputs": [
    {
     "data": {
      "text/plain": [
       "numpy.ndarray"
      ]
     },
     "execution_count": 15,
     "metadata": {},
     "output_type": "execute_result"
    }
   ],
   "source": [
    "type(x)"
   ]
  },
  {
   "cell_type": "code",
   "execution_count": 16,
   "id": "b3f4b4d8",
   "metadata": {},
   "outputs": [
    {
     "data": {
      "text/plain": [
       "(5,)"
      ]
     },
     "execution_count": 16,
     "metadata": {},
     "output_type": "execute_result"
    }
   ],
   "source": [
    "np.shape(x)"
   ]
  },
  {
   "cell_type": "code",
   "execution_count": 17,
   "id": "1d637b78",
   "metadata": {},
   "outputs": [
    {
     "data": {
      "text/plain": [
       "(5,)"
      ]
     },
     "execution_count": 17,
     "metadata": {},
     "output_type": "execute_result"
    }
   ],
   "source": [
    "x.shape"
   ]
  },
  {
   "cell_type": "code",
   "execution_count": 18,
   "id": "14e8bf40",
   "metadata": {},
   "outputs": [
    {
     "data": {
      "text/plain": [
       "array([2, 2, 2, 2])"
      ]
     },
     "execution_count": 18,
     "metadata": {},
     "output_type": "execute_result"
    }
   ],
   "source": [
    "np.array([2,2,2,2])"
   ]
  },
  {
   "cell_type": "code",
   "execution_count": 19,
   "id": "569a8eee",
   "metadata": {},
   "outputs": [
    {
     "data": {
      "text/plain": [
       "array([3, 3, 3, 3])"
      ]
     },
     "execution_count": 19,
     "metadata": {},
     "output_type": "execute_result"
    }
   ],
   "source": [
    "np.array((3,3,3,3))"
   ]
  },
  {
   "cell_type": "code",
   "execution_count": 21,
   "id": "37018bcc",
   "metadata": {},
   "outputs": [
    {
     "data": {
      "text/plain": [
       "()"
      ]
     },
     "execution_count": 21,
     "metadata": {},
     "output_type": "execute_result"
    }
   ],
   "source": [
    "np.array({1,1,1,1}).shape"
   ]
  },
  {
   "cell_type": "code",
   "execution_count": 23,
   "id": "a70f5891",
   "metadata": {},
   "outputs": [],
   "source": [
    "arr2d = np.array([[1,1,1], [2,2,2], [3,3,3]])"
   ]
  },
  {
   "cell_type": "code",
   "execution_count": 24,
   "id": "9f2fde2d",
   "metadata": {},
   "outputs": [
    {
     "data": {
      "text/plain": [
       "array([[1, 1, 1],\n",
       "       [2, 2, 2],\n",
       "       [3, 3, 3]])"
      ]
     },
     "execution_count": 24,
     "metadata": {},
     "output_type": "execute_result"
    }
   ],
   "source": [
    "arr2d"
   ]
  },
  {
   "cell_type": "code",
   "execution_count": 25,
   "id": "7f779add",
   "metadata": {},
   "outputs": [
    {
     "data": {
      "text/plain": [
       "(3, 3)"
      ]
     },
     "execution_count": 25,
     "metadata": {},
     "output_type": "execute_result"
    }
   ],
   "source": [
    "arr2d.shape"
   ]
  },
  {
   "cell_type": "code",
   "execution_count": 26,
   "id": "7b56db82",
   "metadata": {},
   "outputs": [
    {
     "data": {
      "text/plain": [
       "[1, 2, 3, 4, 5]"
      ]
     },
     "execution_count": 26,
     "metadata": {},
     "output_type": "execute_result"
    }
   ],
   "source": [
    "list1"
   ]
  },
  {
   "cell_type": "code",
   "execution_count": 27,
   "id": "7ec9689e",
   "metadata": {},
   "outputs": [],
   "source": [
    "list2 = [6,7,8,9,10]"
   ]
  },
  {
   "cell_type": "code",
   "execution_count": 28,
   "id": "7102caaf",
   "metadata": {},
   "outputs": [],
   "source": [
    "arr2d_2 = np.array([list1, list2])"
   ]
  },
  {
   "cell_type": "code",
   "execution_count": 29,
   "id": "17f5e2b0",
   "metadata": {},
   "outputs": [
    {
     "data": {
      "text/plain": [
       "array([[ 1,  2,  3,  4,  5],\n",
       "       [ 6,  7,  8,  9, 10]])"
      ]
     },
     "execution_count": 29,
     "metadata": {},
     "output_type": "execute_result"
    }
   ],
   "source": [
    "arr2d_2"
   ]
  },
  {
   "cell_type": "code",
   "execution_count": 31,
   "id": "9e3d6201",
   "metadata": {},
   "outputs": [
    {
     "data": {
      "text/plain": [
       "(2, 5)"
      ]
     },
     "execution_count": 31,
     "metadata": {},
     "output_type": "execute_result"
    }
   ],
   "source": [
    "arr2d_2.shape"
   ]
  },
  {
   "cell_type": "markdown",
   "id": "466889bc",
   "metadata": {},
   "source": [
    "#### NumPy DataType Objects"
   ]
  },
  {
   "cell_type": "code",
   "execution_count": 32,
   "id": "3aebfaae",
   "metadata": {},
   "outputs": [
    {
     "data": {
      "text/plain": [
       "33.333333333333336"
      ]
     },
     "execution_count": 32,
     "metadata": {},
     "output_type": "execute_result"
    }
   ],
   "source": [
    "100/3"
   ]
  },
  {
   "cell_type": "code",
   "execution_count": 35,
   "id": "330f24fd",
   "metadata": {},
   "outputs": [
    {
     "data": {
      "text/plain": [
       "array([1.    , 2.    , 3.1453, 5.    ], dtype=float64)"
      ]
     },
     "execution_count": 35,
     "metadata": {},
     "output_type": "execute_result"
    }
   ],
   "source": [
    "np.array([1,2,3.1453,5], dtype=np.longdouble)"
   ]
  },
  {
   "cell_type": "code",
   "execution_count": 36,
   "id": "0ad8a018",
   "metadata": {},
   "outputs": [
    {
     "data": {
      "text/plain": [
       "array([1.    , 2.    , 3.1453, 5.    ], dtype=float64)"
      ]
     },
     "execution_count": 36,
     "metadata": {},
     "output_type": "execute_result"
    }
   ],
   "source": [
    "np.array([1,2,3.1453,5], dtype='g')"
   ]
  },
  {
   "cell_type": "markdown",
   "id": "43d9c70e",
   "metadata": {},
   "source": [
    "#### 56. Array Slicing and Indexing"
   ]
  },
  {
   "cell_type": "code",
   "execution_count": 37,
   "id": "cc1988c1",
   "metadata": {},
   "outputs": [],
   "source": [
    "arr1 = np.array([1,1,1,1])\n",
    "arr2 = np.array([[1,1,1,1]])"
   ]
  },
  {
   "cell_type": "code",
   "execution_count": 38,
   "id": "37c67d8c",
   "metadata": {},
   "outputs": [
    {
     "data": {
      "text/plain": [
       "(4,)"
      ]
     },
     "execution_count": 38,
     "metadata": {},
     "output_type": "execute_result"
    }
   ],
   "source": [
    "arr1.shape"
   ]
  },
  {
   "cell_type": "code",
   "execution_count": 39,
   "id": "ad067326",
   "metadata": {},
   "outputs": [
    {
     "data": {
      "text/plain": [
       "(1, 4)"
      ]
     },
     "execution_count": 39,
     "metadata": {},
     "output_type": "execute_result"
    }
   ],
   "source": [
    "arr2.shape"
   ]
  },
  {
   "cell_type": "markdown",
   "id": "580031c0",
   "metadata": {},
   "source": [
    "#### 56. Slicing and indexing"
   ]
  },
  {
   "cell_type": "code",
   "execution_count": 41,
   "id": "a785af0a",
   "metadata": {},
   "outputs": [],
   "source": [
    "array_1d = np.array([2,5,6,7,6,4,3])\n",
    "array_2d = np.array([[2,5,6,7,60,47,3],\n",
    "                     [11,50,6,9,62,42,30],\n",
    "                     [16,53,86,69,2,2,50]])"
   ]
  },
  {
   "cell_type": "code",
   "execution_count": 42,
   "id": "ee34dc38",
   "metadata": {},
   "outputs": [
    {
     "data": {
      "text/plain": [
       "array([2, 5, 6, 7, 6, 4, 3])"
      ]
     },
     "execution_count": 42,
     "metadata": {},
     "output_type": "execute_result"
    }
   ],
   "source": [
    "array_1d"
   ]
  },
  {
   "cell_type": "code",
   "execution_count": 43,
   "id": "d5f4e856",
   "metadata": {},
   "outputs": [
    {
     "data": {
      "text/plain": [
       "array([[ 2,  5,  6,  7, 60, 47,  3],\n",
       "       [11, 50,  6,  9, 62, 42, 30],\n",
       "       [16, 53, 86, 69,  2,  2, 50]])"
      ]
     },
     "execution_count": 43,
     "metadata": {},
     "output_type": "execute_result"
    }
   ],
   "source": [
    "array_2d"
   ]
  },
  {
   "cell_type": "code",
   "execution_count": 44,
   "id": "18088a0e",
   "metadata": {},
   "outputs": [
    {
     "data": {
      "text/plain": [
       "6"
      ]
     },
     "execution_count": 44,
     "metadata": {},
     "output_type": "execute_result"
    }
   ],
   "source": [
    "array_1d[4]"
   ]
  },
  {
   "cell_type": "code",
   "execution_count": 45,
   "id": "25b072a1",
   "metadata": {},
   "outputs": [
    {
     "data": {
      "text/plain": [
       "array([6, 4, 3])"
      ]
     },
     "execution_count": 45,
     "metadata": {},
     "output_type": "execute_result"
    }
   ],
   "source": [
    "array_1d[4:]"
   ]
  },
  {
   "cell_type": "code",
   "execution_count": 46,
   "id": "62a85272",
   "metadata": {},
   "outputs": [
    {
     "data": {
      "text/plain": [
       "array([6, 7, 6, 4])"
      ]
     },
     "execution_count": 46,
     "metadata": {},
     "output_type": "execute_result"
    }
   ],
   "source": [
    "array_1d[2:6]"
   ]
  },
  {
   "cell_type": "code",
   "execution_count": 47,
   "id": "dbe032f4",
   "metadata": {},
   "outputs": [
    {
     "data": {
      "text/plain": [
       "array([3, 4, 6, 7, 6, 5, 2])"
      ]
     },
     "execution_count": 47,
     "metadata": {},
     "output_type": "execute_result"
    }
   ],
   "source": [
    "array_1d[::-1]"
   ]
  },
  {
   "cell_type": "code",
   "execution_count": 48,
   "id": "dd39bd78",
   "metadata": {},
   "outputs": [
    {
     "data": {
      "text/plain": [
       "array([[ 6,  9, 62, 42, 30],\n",
       "       [86, 69,  2,  2, 50]])"
      ]
     },
     "execution_count": 48,
     "metadata": {},
     "output_type": "execute_result"
    }
   ],
   "source": [
    "array_2d[1:,2:]"
   ]
  },
  {
   "cell_type": "code",
   "execution_count": 49,
   "id": "d1111b95",
   "metadata": {},
   "outputs": [
    {
     "data": {
      "text/plain": [
       "50"
      ]
     },
     "execution_count": 49,
     "metadata": {},
     "output_type": "execute_result"
    }
   ],
   "source": [
    "array_2d[2,6]"
   ]
  },
  {
   "cell_type": "code",
   "execution_count": 50,
   "id": "7a6281e8",
   "metadata": {},
   "outputs": [
    {
     "data": {
      "text/plain": [
       "array([[16, 53, 86, 69,  2,  2, 50],\n",
       "       [11, 50,  6,  9, 62, 42, 30],\n",
       "       [ 2,  5,  6,  7, 60, 47,  3]])"
      ]
     },
     "execution_count": 50,
     "metadata": {},
     "output_type": "execute_result"
    }
   ],
   "source": [
    "array_2d[::-1]"
   ]
  },
  {
   "cell_type": "code",
   "execution_count": 51,
   "id": "45c279e3",
   "metadata": {},
   "outputs": [
    {
     "data": {
      "text/plain": [
       "array([[ 3, 47, 60,  7,  6,  5,  2],\n",
       "       [30, 42, 62,  9,  6, 50, 11],\n",
       "       [50,  2,  2, 69, 86, 53, 16]])"
      ]
     },
     "execution_count": 51,
     "metadata": {},
     "output_type": "execute_result"
    }
   ],
   "source": [
    "array_2d[:,::-1]"
   ]
  },
  {
   "cell_type": "markdown",
   "id": "04540960",
   "metadata": {},
   "source": [
    "#### Bolean Array Indexing"
   ]
  },
  {
   "cell_type": "code",
   "execution_count": 52,
   "id": "75e32299",
   "metadata": {},
   "outputs": [
    {
     "data": {
      "text/plain": [
       "array([2, 5, 6, 7, 6, 4, 3])"
      ]
     },
     "execution_count": 52,
     "metadata": {},
     "output_type": "execute_result"
    }
   ],
   "source": [
    "array_1d"
   ]
  },
  {
   "cell_type": "code",
   "execution_count": 53,
   "id": "db4baaf3",
   "metadata": {},
   "outputs": [
    {
     "data": {
      "text/plain": [
       "array([False,  True,  True,  True,  True,  True, False])"
      ]
     },
     "execution_count": 53,
     "metadata": {},
     "output_type": "execute_result"
    }
   ],
   "source": [
    "array_1d > 3"
   ]
  },
  {
   "cell_type": "code",
   "execution_count": 54,
   "id": "2bdaebdb",
   "metadata": {},
   "outputs": [
    {
     "data": {
      "text/plain": [
       "array([5, 6, 7, 6, 4])"
      ]
     },
     "execution_count": 54,
     "metadata": {},
     "output_type": "execute_result"
    }
   ],
   "source": [
    "array_1d [array_1d>3]"
   ]
  },
  {
   "cell_type": "code",
   "execution_count": 55,
   "id": "886ba268",
   "metadata": {},
   "outputs": [
    {
     "data": {
      "text/plain": [
       "array([[ 2,  5,  6,  7, 60, 47,  3],\n",
       "       [11, 50,  6,  9, 62, 42, 30],\n",
       "       [16, 53, 86, 69,  2,  2, 50]])"
      ]
     },
     "execution_count": 55,
     "metadata": {},
     "output_type": "execute_result"
    }
   ],
   "source": [
    "array_2d"
   ]
  },
  {
   "cell_type": "code",
   "execution_count": 56,
   "id": "41fb9ae3",
   "metadata": {},
   "outputs": [
    {
     "data": {
      "text/plain": [
       "array([[False, False, False, False,  True,  True, False],\n",
       "       [ True,  True, False, False,  True,  True,  True],\n",
       "       [ True,  True,  True,  True, False, False,  True]])"
      ]
     },
     "execution_count": 56,
     "metadata": {},
     "output_type": "execute_result"
    }
   ],
   "source": [
    "array_2d>10"
   ]
  },
  {
   "cell_type": "code",
   "execution_count": 57,
   "id": "741cd4a6",
   "metadata": {},
   "outputs": [
    {
     "data": {
      "text/plain": [
       "array([60, 47, 11, 50, 62, 42, 30, 16, 53, 86, 69, 50])"
      ]
     },
     "execution_count": 57,
     "metadata": {},
     "output_type": "execute_result"
    }
   ],
   "source": [
    "array_2d[array_2d>10] #one dimensional array"
   ]
  },
  {
   "cell_type": "code",
   "execution_count": 58,
   "id": "5b5eab2c",
   "metadata": {},
   "outputs": [],
   "source": [
    "array_1 = np.array([1,1,2,3,4])\n",
    "list_1 = [1,1,2,3,4]"
   ]
  },
  {
   "cell_type": "code",
   "execution_count": 59,
   "id": "2150054b",
   "metadata": {},
   "outputs": [
    {
     "data": {
      "text/plain": [
       "[10, 1, 2, 3, 4]"
      ]
     },
     "execution_count": 59,
     "metadata": {},
     "output_type": "execute_result"
    }
   ],
   "source": [
    "list_1[0] = 10\n",
    "list_1"
   ]
  },
  {
   "cell_type": "code",
   "execution_count": null,
   "id": "eac5b0d9",
   "metadata": {},
   "outputs": [],
   "source": [
    "list_1[:] = 10 #does not work"
   ]
  },
  {
   "cell_type": "code",
   "execution_count": 60,
   "id": "aa1180b7",
   "metadata": {},
   "outputs": [
    {
     "data": {
      "text/plain": [
       "array([10, 10, 10, 10, 10])"
      ]
     },
     "execution_count": 60,
     "metadata": {},
     "output_type": "execute_result"
    }
   ],
   "source": [
    "array_1[:] = 10\n",
    "array_1"
   ]
  },
  {
   "cell_type": "markdown",
   "id": "4900e746",
   "metadata": {},
   "source": [
    "### 57. Array Manipulation"
   ]
  },
  {
   "cell_type": "code",
   "execution_count": 62,
   "id": "ac5b9202",
   "metadata": {},
   "outputs": [],
   "source": [
    "array_1d = np.array([1,2,3,4,5,6,4,2,2,1])\n",
    "array_2d = np.array([[2,3,2,4,6],\n",
    "                     [5,6,3,2,4]])"
   ]
  },
  {
   "cell_type": "code",
   "execution_count": 63,
   "id": "272f02b4",
   "metadata": {},
   "outputs": [
    {
     "data": {
      "text/plain": [
       "(10,)"
      ]
     },
     "execution_count": 63,
     "metadata": {},
     "output_type": "execute_result"
    }
   ],
   "source": [
    "array_1d.shape"
   ]
  },
  {
   "cell_type": "code",
   "execution_count": 64,
   "id": "3f86a413",
   "metadata": {},
   "outputs": [
    {
     "data": {
      "text/plain": [
       "(2, 5)"
      ]
     },
     "execution_count": 64,
     "metadata": {},
     "output_type": "execute_result"
    }
   ],
   "source": [
    "array_2d.shape"
   ]
  },
  {
   "cell_type": "code",
   "execution_count": 66,
   "id": "3465dd85",
   "metadata": {},
   "outputs": [
    {
     "data": {
      "text/plain": [
       "array([[1, 2, 3, 4, 5],\n",
       "       [6, 4, 2, 2, 1]])"
      ]
     },
     "execution_count": 66,
     "metadata": {},
     "output_type": "execute_result"
    }
   ],
   "source": [
    "np.reshape(array_1d,(2,5))\n",
    "#array_1.reshape(2,5)"
   ]
  },
  {
   "cell_type": "code",
   "execution_count": 68,
   "id": "06473667",
   "metadata": {},
   "outputs": [
    {
     "data": {
      "text/plain": [
       "array([1, 2, 3, 4, 5, 6, 4, 2, 2, 1])"
      ]
     },
     "execution_count": 68,
     "metadata": {},
     "output_type": "execute_result"
    }
   ],
   "source": [
    "array_1d"
   ]
  },
  {
   "cell_type": "code",
   "execution_count": 71,
   "id": "f50132c9",
   "metadata": {},
   "outputs": [
    {
     "data": {
      "text/plain": [
       "array([[2, 3, 2, 4, 6],\n",
       "       [5, 6, 3, 2, 4]])"
      ]
     },
     "execution_count": 71,
     "metadata": {},
     "output_type": "execute_result"
    }
   ],
   "source": [
    "#flatten\n",
    "array_2d"
   ]
  },
  {
   "cell_type": "code",
   "execution_count": 72,
   "id": "8ff9fb8a",
   "metadata": {},
   "outputs": [
    {
     "data": {
      "text/plain": [
       "array([2, 3, 2, 4, 6, 5, 6, 3, 2, 4])"
      ]
     },
     "execution_count": 72,
     "metadata": {},
     "output_type": "execute_result"
    }
   ],
   "source": [
    "np.ndarray.flatten(array_2d)"
   ]
  },
  {
   "cell_type": "code",
   "execution_count": 73,
   "id": "dc4a90c5",
   "metadata": {},
   "outputs": [
    {
     "data": {
      "text/plain": [
       "(10,)"
      ]
     },
     "execution_count": 73,
     "metadata": {},
     "output_type": "execute_result"
    }
   ],
   "source": [
    "np.ndarray.flatten(array_2d).shape"
   ]
  },
  {
   "cell_type": "code",
   "execution_count": 75,
   "id": "969febf3",
   "metadata": {},
   "outputs": [
    {
     "data": {
      "text/plain": [
       "array([2, 3, 2, 4, 6, 5, 6, 3, 2, 4])"
      ]
     },
     "execution_count": 75,
     "metadata": {},
     "output_type": "execute_result"
    }
   ],
   "source": [
    "#Ravel\n",
    "np.ravel(array_2d)"
   ]
  },
  {
   "cell_type": "code",
   "execution_count": 90,
   "id": "9b38b542",
   "metadata": {},
   "outputs": [],
   "source": [
    "#Concatenate\n",
    "\n",
    "array_1 = np.array([[1,1,1],[2,2,2]])\n",
    "\n",
    "array_2 = np.array([[3,3,3],[4,4,4],[5,5,5]])\n",
    "\n",
    "array_3 = np.array([[3,3],[4,4],[5,5]])"
   ]
  },
  {
   "cell_type": "code",
   "execution_count": 91,
   "id": "9a00d635",
   "metadata": {},
   "outputs": [
    {
     "data": {
      "text/plain": [
       "(2, 3)"
      ]
     },
     "execution_count": 91,
     "metadata": {},
     "output_type": "execute_result"
    }
   ],
   "source": [
    "array_1d.shape"
   ]
  },
  {
   "cell_type": "code",
   "execution_count": 92,
   "id": "85995e4e",
   "metadata": {},
   "outputs": [
    {
     "data": {
      "text/plain": [
       "(3, 3)"
      ]
     },
     "execution_count": 92,
     "metadata": {},
     "output_type": "execute_result"
    }
   ],
   "source": [
    "array_2d.shape"
   ]
  },
  {
   "cell_type": "code",
   "execution_count": 93,
   "id": "98703802",
   "metadata": {},
   "outputs": [
    {
     "data": {
      "text/plain": [
       "(3, 2)"
      ]
     },
     "execution_count": 93,
     "metadata": {},
     "output_type": "execute_result"
    }
   ],
   "source": [
    "array_3d.shape"
   ]
  },
  {
   "cell_type": "code",
   "execution_count": 94,
   "id": "b08805b8",
   "metadata": {},
   "outputs": [
    {
     "data": {
      "text/plain": [
       "array([[1, 1, 1],\n",
       "       [2, 2, 2],\n",
       "       [3, 3, 3],\n",
       "       [4, 4, 4],\n",
       "       [5, 5, 5]])"
      ]
     },
     "execution_count": 94,
     "metadata": {},
     "output_type": "execute_result"
    }
   ],
   "source": [
    "np.concatenate((array_1,array_2), axis=0)"
   ]
  },
  {
   "cell_type": "code",
   "execution_count": 95,
   "id": "30143659",
   "metadata": {},
   "outputs": [
    {
     "data": {
      "text/plain": [
       "array([[3, 3, 3, 3, 3],\n",
       "       [4, 4, 4, 4, 4],\n",
       "       [5, 5, 5, 5, 5]])"
      ]
     },
     "execution_count": 95,
     "metadata": {},
     "output_type": "execute_result"
    }
   ],
   "source": [
    "np.concatenate((array_3,array_2), axis=1) #axis 1 mean a new column added"
   ]
  },
  {
   "cell_type": "code",
   "execution_count": 96,
   "id": "f6faa236",
   "metadata": {},
   "outputs": [
    {
     "data": {
      "text/plain": [
       "array([[1, 1, 1],\n",
       "       [2, 2, 2]])"
      ]
     },
     "execution_count": 96,
     "metadata": {},
     "output_type": "execute_result"
    }
   ],
   "source": [
    "array_1"
   ]
  },
  {
   "cell_type": "code",
   "execution_count": 98,
   "id": "75109dc2",
   "metadata": {},
   "outputs": [
    {
     "data": {
      "text/plain": [
       "array([[1, 2],\n",
       "       [1, 2],\n",
       "       [1, 2]])"
      ]
     },
     "execution_count": 98,
     "metadata": {},
     "output_type": "execute_result"
    }
   ],
   "source": [
    "np.transpose(array_1)"
   ]
  },
  {
   "cell_type": "code",
   "execution_count": 100,
   "id": "65a0e3c0",
   "metadata": {},
   "outputs": [],
   "source": [
    "#array_1.traspose()"
   ]
  },
  {
   "cell_type": "code",
   "execution_count": 101,
   "id": "095c8959",
   "metadata": {},
   "outputs": [],
   "source": [
    "array_unsort = np.array([[1,10,3],[2,3,1]])"
   ]
  },
  {
   "cell_type": "code",
   "execution_count": 102,
   "id": "3907739f",
   "metadata": {},
   "outputs": [
    {
     "data": {
      "text/plain": [
       "array([[ 1, 10,  3],\n",
       "       [ 2,  3,  1]])"
      ]
     },
     "execution_count": 102,
     "metadata": {},
     "output_type": "execute_result"
    }
   ],
   "source": [
    "array_unsort"
   ]
  },
  {
   "cell_type": "code",
   "execution_count": 103,
   "id": "c6ad6517",
   "metadata": {},
   "outputs": [
    {
     "data": {
      "text/plain": [
       "array([[ 1,  3, 10],\n",
       "       [ 1,  2,  3]])"
      ]
     },
     "execution_count": 103,
     "metadata": {},
     "output_type": "execute_result"
    }
   ],
   "source": [
    "np.sort(array_unsort, axis=1)"
   ]
  },
  {
   "cell_type": "code",
   "execution_count": 104,
   "id": "7198625a",
   "metadata": {},
   "outputs": [
    {
     "data": {
      "text/plain": [
       "array([[ 1,  3,  1],\n",
       "       [ 2, 10,  3]])"
      ]
     },
     "execution_count": 104,
     "metadata": {},
     "output_type": "execute_result"
    }
   ],
   "source": [
    "np.sort(array_unsort, axis=0)"
   ]
  },
  {
   "cell_type": "markdown",
   "id": "7d660043",
   "metadata": {},
   "source": [
    "### 58.  Aditional Array Creation Functions"
   ]
  },
  {
   "cell_type": "code",
   "execution_count": 105,
   "id": "7d3a2d92",
   "metadata": {},
   "outputs": [
    {
     "data": {
      "text/plain": [
       "array([[2, 2, 2, 2, 2],\n",
       "       [2, 2, 2, 2, 2]])"
      ]
     },
     "execution_count": 105,
     "metadata": {},
     "output_type": "execute_result"
    }
   ],
   "source": [
    "np.full((2,5),2)"
   ]
  },
  {
   "cell_type": "code",
   "execution_count": 107,
   "id": "f07cf533",
   "metadata": {},
   "outputs": [
    {
     "data": {
      "text/plain": [
       "array([[0., 0., 0., 0., 0.],\n",
       "       [0., 0., 0., 0., 0.],\n",
       "       [0., 0., 0., 0., 0.],\n",
       "       [0., 0., 0., 0., 0.],\n",
       "       [0., 0., 0., 0., 0.]], dtype=float64)"
      ]
     },
     "execution_count": 107,
     "metadata": {},
     "output_type": "execute_result"
    }
   ],
   "source": [
    "np.full((5,5),fill_value=0,dtype=np.longdouble)"
   ]
  },
  {
   "cell_type": "code",
   "execution_count": 108,
   "id": "d2b6349c",
   "metadata": {},
   "outputs": [
    {
     "data": {
      "text/plain": [
       "array([[5., 5., 5.],\n",
       "       [5., 5., 5.],\n",
       "       [5., 5., 5.]], dtype=float64)"
      ]
     },
     "execution_count": 108,
     "metadata": {},
     "output_type": "execute_result"
    }
   ],
   "source": [
    "np.full((3,3),5,np.longdouble)"
   ]
  },
  {
   "cell_type": "code",
   "execution_count": 111,
   "id": "f1de4c87",
   "metadata": {},
   "outputs": [
    {
     "data": {
      "text/plain": [
       "array([ 0,  2,  4,  6,  8, 10])"
      ]
     },
     "execution_count": 111,
     "metadata": {},
     "output_type": "execute_result"
    }
   ],
   "source": [
    "#Arrange\n",
    "np.arange(0,12,2)"
   ]
  },
  {
   "cell_type": "code",
   "execution_count": 112,
   "id": "eb112d23",
   "metadata": {},
   "outputs": [
    {
     "data": {
      "text/plain": [
       "array([[ 0,  2,  4],\n",
       "       [ 6,  8, 10]])"
      ]
     },
     "execution_count": 112,
     "metadata": {},
     "output_type": "execute_result"
    }
   ],
   "source": [
    "np.arange(0,12,2).reshape(2,3)"
   ]
  },
  {
   "cell_type": "code",
   "execution_count": 185,
   "id": "f32ad2da",
   "metadata": {},
   "outputs": [
    {
     "data": {
      "text/plain": [
       "array([[  0.        ,   9.09090909,  18.18181818,  27.27272727],\n",
       "       [ 36.36363636,  45.45454545,  54.54545455,  63.63636364],\n",
       "       [ 72.72727273,  81.81818182,  90.90909091, 100.        ]])"
      ]
     },
     "execution_count": 185,
     "metadata": {},
     "output_type": "execute_result"
    }
   ],
   "source": [
    "np.linspace(0,100,num=12).reshape(3,4)"
   ]
  },
  {
   "cell_type": "code",
   "execution_count": 117,
   "id": "68d4aa9d",
   "metadata": {},
   "outputs": [
    {
     "data": {
      "text/plain": [
       "array([[  0.        ,   4.16666667,   8.33333333,  12.5       ,\n",
       "         16.66666667],\n",
       "       [ 20.83333333,  25.        ,  29.16666667,  33.33333333,\n",
       "         37.5       ],\n",
       "       [ 41.66666667,  45.83333333,  50.        ,  54.16666667,\n",
       "         58.33333333],\n",
       "       [ 62.5       ,  66.66666667,  70.83333333,  75.        ,\n",
       "         79.16666667],\n",
       "       [ 83.33333333,  87.5       ,  91.66666667,  95.83333333,\n",
       "        100.        ]])"
      ]
     },
     "execution_count": 117,
     "metadata": {},
     "output_type": "execute_result"
    }
   ],
   "source": [
    "np.linspace(0,100,num=25).reshape(5,5)"
   ]
  },
  {
   "cell_type": "code",
   "execution_count": 119,
   "id": "59c657c2",
   "metadata": {},
   "outputs": [
    {
     "data": {
      "text/plain": [
       "array([[0.41747367, 0.53709019, 0.10485611, 0.50758802, 0.17493708],\n",
       "       [0.3386598 , 0.42981266, 0.13810681, 0.76443399, 0.12634268]])"
      ]
     },
     "execution_count": 119,
     "metadata": {},
     "output_type": "execute_result"
    }
   ],
   "source": [
    "np.random.rand(2,5)"
   ]
  },
  {
   "cell_type": "code",
   "execution_count": 120,
   "id": "b9aaef11",
   "metadata": {},
   "outputs": [
    {
     "data": {
      "text/plain": [
       "array([[-16,   2,  10],\n",
       "       [  2,  19,   6],\n",
       "       [  9,  -2, -16]])"
      ]
     },
     "execution_count": 120,
     "metadata": {},
     "output_type": "execute_result"
    }
   ],
   "source": [
    "np.random.randint(-20,20,(3,3))"
   ]
  },
  {
   "cell_type": "markdown",
   "id": "582a27f3",
   "metadata": {},
   "source": [
    "### 59. Array Arithmetic and Mathematical Functions"
   ]
  },
  {
   "cell_type": "code",
   "execution_count": 121,
   "id": "963adac4",
   "metadata": {},
   "outputs": [
    {
     "data": {
      "text/plain": [
       "array([[3, 3],\n",
       "       [4, 4],\n",
       "       [5, 5]])"
      ]
     },
     "execution_count": 121,
     "metadata": {},
     "output_type": "execute_result"
    }
   ],
   "source": [
    "array_3"
   ]
  },
  {
   "cell_type": "code",
   "execution_count": 122,
   "id": "676324fd",
   "metadata": {},
   "outputs": [],
   "source": [
    "array_1 = np.array([[1,2,3,3,3]])"
   ]
  },
  {
   "cell_type": "code",
   "execution_count": 126,
   "id": "500444c1",
   "metadata": {},
   "outputs": [],
   "source": [
    "array_2 = np.array([[1,2,3,4,5,5,3,2,4,2,1,2,3,4,5]]).reshape(5,3)"
   ]
  },
  {
   "cell_type": "code",
   "execution_count": 131,
   "id": "8ff8ec31",
   "metadata": {},
   "outputs": [],
   "source": [
    "array_3 = np.array([1,2,3,4,5,5,3,2,4,2,1,2,3,4,5]).reshape(3,5)"
   ]
  },
  {
   "cell_type": "code",
   "execution_count": 135,
   "id": "bc2e0d09",
   "metadata": {},
   "outputs": [
    {
     "data": {
      "text/plain": [
       "array([[2, 4, 6, 6, 6]])"
      ]
     },
     "execution_count": 135,
     "metadata": {},
     "output_type": "execute_result"
    }
   ],
   "source": [
    "array_1+array_1"
   ]
  },
  {
   "cell_type": "code",
   "execution_count": 137,
   "id": "9392c94f",
   "metadata": {},
   "outputs": [
    {
     "data": {
      "text/plain": [
       "array([[2, 4, 6, 6, 6]])"
      ]
     },
     "execution_count": 137,
     "metadata": {},
     "output_type": "execute_result"
    }
   ],
   "source": [
    "np.add(array_1,array_1) #two array as max to sum"
   ]
  },
  {
   "cell_type": "code",
   "execution_count": 138,
   "id": "7ce98e8c",
   "metadata": {},
   "outputs": [
    {
     "data": {
      "text/plain": [
       "array([[1, 2, 3, 3, 3]])"
      ]
     },
     "execution_count": 138,
     "metadata": {},
     "output_type": "execute_result"
    }
   ],
   "source": [
    "array_1"
   ]
  },
  {
   "cell_type": "code",
   "execution_count": 139,
   "id": "f7e5100a",
   "metadata": {},
   "outputs": [
    {
     "data": {
      "text/plain": [
       "array([[1, 2, 3],\n",
       "       [4, 5, 5],\n",
       "       [3, 2, 4],\n",
       "       [2, 1, 2],\n",
       "       [3, 4, 5]])"
      ]
     },
     "execution_count": 139,
     "metadata": {},
     "output_type": "execute_result"
    }
   ],
   "source": [
    "array_2"
   ]
  },
  {
   "cell_type": "code",
   "execution_count": 140,
   "id": "ae8b18bf",
   "metadata": {},
   "outputs": [
    {
     "data": {
      "text/plain": [
       "array([[1, 2, 3, 4, 5],\n",
       "       [5, 3, 2, 4, 2],\n",
       "       [1, 2, 3, 4, 5]])"
      ]
     },
     "execution_count": 140,
     "metadata": {},
     "output_type": "execute_result"
    }
   ],
   "source": [
    "array_3"
   ]
  },
  {
   "cell_type": "code",
   "execution_count": 141,
   "id": "1b14e660",
   "metadata": {},
   "outputs": [
    {
     "data": {
      "text/plain": [
       "array([[2, 4, 6, 7, 8],\n",
       "       [6, 5, 5, 7, 5],\n",
       "       [2, 4, 6, 7, 8]])"
      ]
     },
     "execution_count": 141,
     "metadata": {},
     "output_type": "execute_result"
    }
   ],
   "source": [
    "array_1+array_3 #array 1 is add in each row of array3"
   ]
  },
  {
   "cell_type": "code",
   "execution_count": 142,
   "id": "7f88fc8e",
   "metadata": {},
   "outputs": [
    {
     "data": {
      "text/plain": [
       "array([[ 6,  7,  8,  9, 10],\n",
       "       [10,  8,  7,  9,  7],\n",
       "       [ 6,  7,  8,  9, 10]])"
      ]
     },
     "execution_count": 142,
     "metadata": {},
     "output_type": "execute_result"
    }
   ],
   "source": [
    "array_3+5"
   ]
  },
  {
   "cell_type": "code",
   "execution_count": 144,
   "id": "71f3066d",
   "metadata": {},
   "outputs": [
    {
     "data": {
      "text/plain": [
       "array([[ 0,  0,  0, -1, -2],\n",
       "       [-4, -1,  1, -1,  1],\n",
       "       [ 0,  0,  0, -1, -2]])"
      ]
     },
     "execution_count": 144,
     "metadata": {},
     "output_type": "execute_result"
    }
   ],
   "source": [
    "array_1-array_3"
   ]
  },
  {
   "cell_type": "code",
   "execution_count": 145,
   "id": "92e3cced",
   "metadata": {
    "scrolled": true
   },
   "outputs": [
    {
     "data": {
      "text/plain": [
       "array([[ 5, 10, 15, 15, 15]])"
      ]
     },
     "execution_count": 145,
     "metadata": {},
     "output_type": "execute_result"
    }
   ],
   "source": [
    "array_1*5"
   ]
  },
  {
   "cell_type": "code",
   "execution_count": 146,
   "id": "ff6d53d0",
   "metadata": {},
   "outputs": [
    {
     "data": {
      "text/plain": [
       "array([[ 5, 10, 15, 20, 25],\n",
       "       [25, 15, 10, 20, 10],\n",
       "       [ 5, 10, 15, 20, 25]])"
      ]
     },
     "execution_count": 146,
     "metadata": {},
     "output_type": "execute_result"
    }
   ],
   "source": [
    "array_3*5"
   ]
  },
  {
   "cell_type": "code",
   "execution_count": 148,
   "id": "8a1be946",
   "metadata": {},
   "outputs": [
    {
     "data": {
      "text/plain": [
       "46"
      ]
     },
     "execution_count": 148,
     "metadata": {},
     "output_type": "execute_result"
    }
   ],
   "source": [
    "np.sum(array_3)"
   ]
  },
  {
   "cell_type": "code",
   "execution_count": 149,
   "id": "11449c48",
   "metadata": {},
   "outputs": [
    {
     "data": {
      "text/plain": [
       "array([ 7,  7,  8, 12, 12])"
      ]
     },
     "execution_count": 149,
     "metadata": {},
     "output_type": "execute_result"
    }
   ],
   "source": [
    "np.sum(array_3, axis=0) #axis 0 sum by column"
   ]
  },
  {
   "cell_type": "code",
   "execution_count": 150,
   "id": "4e4c5fe1",
   "metadata": {},
   "outputs": [
    {
     "data": {
      "text/plain": [
       "array([15, 16, 15])"
      ]
     },
     "execution_count": 150,
     "metadata": {},
     "output_type": "execute_result"
    }
   ],
   "source": [
    "np.sum(array_3, axis=1) #axis 1 sum by rows"
   ]
  },
  {
   "cell_type": "code",
   "execution_count": 152,
   "id": "1be59b99",
   "metadata": {},
   "outputs": [
    {
     "data": {
      "text/plain": [
       "array([[1, 2, 3, 4, 5],\n",
       "       [5, 3, 2, 4, 2],\n",
       "       [1, 2, 3, 4, 5]])"
      ]
     },
     "execution_count": 152,
     "metadata": {},
     "output_type": "execute_result"
    }
   ],
   "source": [
    "array_3"
   ]
  },
  {
   "cell_type": "code",
   "execution_count": 153,
   "id": "23d832a2",
   "metadata": {},
   "outputs": [
    {
     "data": {
      "text/plain": [
       "array([[ 1,  3,  6, 10, 15],\n",
       "       [ 5,  8, 10, 14, 16],\n",
       "       [ 1,  3,  6, 10, 15]], dtype=int32)"
      ]
     },
     "execution_count": 153,
     "metadata": {},
     "output_type": "execute_result"
    }
   ],
   "source": [
    "np.cumsum(array_3, axis=1)"
   ]
  },
  {
   "cell_type": "code",
   "execution_count": 154,
   "id": "73fc3e54",
   "metadata": {},
   "outputs": [
    {
     "data": {
      "text/plain": [
       "array([[ 1,  2,  3,  4,  5],\n",
       "       [ 6,  5,  5,  8,  7],\n",
       "       [ 7,  7,  8, 12, 12]], dtype=int32)"
      ]
     },
     "execution_count": 154,
     "metadata": {},
     "output_type": "execute_result"
    }
   ],
   "source": [
    "np.cumsum(array_3, axis=0)"
   ]
  },
  {
   "cell_type": "code",
   "execution_count": 155,
   "id": "a769e3d7",
   "metadata": {},
   "outputs": [
    {
     "data": {
      "text/plain": [
       "array([ 1,  3,  6, 10, 15, 20, 23, 25, 29, 31, 32, 34, 37, 41, 46],\n",
       "      dtype=int32)"
      ]
     },
     "execution_count": 155,
     "metadata": {},
     "output_type": "execute_result"
    }
   ],
   "source": [
    "np.cumsum(array_3)"
   ]
  },
  {
   "cell_type": "code",
   "execution_count": 156,
   "id": "bd74f3ff",
   "metadata": {},
   "outputs": [
    {
     "data": {
      "text/plain": [
       "array([[1, 2, 3, 4, 5],\n",
       "       [5, 3, 2, 4, 2],\n",
       "       [1, 2, 3, 4, 5]])"
      ]
     },
     "execution_count": 156,
     "metadata": {},
     "output_type": "execute_result"
    }
   ],
   "source": [
    "array_3"
   ]
  },
  {
   "cell_type": "code",
   "execution_count": 158,
   "id": "f088dbd9",
   "metadata": {},
   "outputs": [
    {
     "data": {
      "text/plain": [
       "3.066666666666667"
      ]
     },
     "execution_count": 158,
     "metadata": {},
     "output_type": "execute_result"
    }
   ],
   "source": [
    "array_3.mean()"
   ]
  },
  {
   "cell_type": "code",
   "execution_count": 159,
   "id": "620155e2",
   "metadata": {},
   "outputs": [
    {
     "data": {
      "text/plain": [
       "array([2.33333333, 2.33333333, 2.66666667, 4.        , 4.        ])"
      ]
     },
     "execution_count": 159,
     "metadata": {},
     "output_type": "execute_result"
    }
   ],
   "source": [
    "np.mean(array_3,axis=0)"
   ]
  },
  {
   "cell_type": "code",
   "execution_count": 160,
   "id": "cd5b402a",
   "metadata": {},
   "outputs": [
    {
     "data": {
      "text/plain": [
       "array([3. , 3.2, 3. ])"
      ]
     },
     "execution_count": 160,
     "metadata": {},
     "output_type": "execute_result"
    }
   ],
   "source": [
    "np.mean(array_3,axis=1)"
   ]
  },
  {
   "cell_type": "code",
   "execution_count": 162,
   "id": "4add5122",
   "metadata": {},
   "outputs": [
    {
     "data": {
      "text/plain": [
       "array([5, 5, 5])"
      ]
     },
     "execution_count": 162,
     "metadata": {},
     "output_type": "execute_result"
    }
   ],
   "source": [
    "np.amax(array_3, axis=1)"
   ]
  },
  {
   "cell_type": "code",
   "execution_count": 163,
   "id": "5c6afb29",
   "metadata": {},
   "outputs": [
    {
     "data": {
      "text/plain": [
       "array([1, 2, 2, 4, 2])"
      ]
     },
     "execution_count": 163,
     "metadata": {},
     "output_type": "execute_result"
    }
   ],
   "source": [
    "np.amin(array_3, axis=0)"
   ]
  },
  {
   "cell_type": "code",
   "execution_count": 164,
   "id": "30c038ef",
   "metadata": {},
   "outputs": [
    {
     "data": {
      "text/plain": [
       "array([1, 2, 1])"
      ]
     },
     "execution_count": 164,
     "metadata": {},
     "output_type": "execute_result"
    }
   ],
   "source": [
    "np.amin(array_3, axis=1)"
   ]
  },
  {
   "cell_type": "markdown",
   "id": "bd30c5ed",
   "metadata": {},
   "source": [
    "### 60. IO Functions in NumPy"
   ]
  },
  {
   "cell_type": "code",
   "execution_count": 187,
   "id": "9739d880",
   "metadata": {},
   "outputs": [],
   "source": [
    "x = np.loadtxt('tfl-daily-cycle-hires.txt',delimiter=',', usecols=(1), skiprows=1)"
   ]
  },
  {
   "cell_type": "code",
   "execution_count": 188,
   "id": "a3ae3a68",
   "metadata": {},
   "outputs": [
    {
     "data": {
      "text/plain": [
       "array([ 6897.,  5564.,  4303., ..., 32539., 39889., 34070.])"
      ]
     },
     "execution_count": 188,
     "metadata": {},
     "output_type": "execute_result"
    }
   ],
   "source": [
    "x"
   ]
  },
  {
   "cell_type": "code",
   "execution_count": 189,
   "id": "670c7684",
   "metadata": {},
   "outputs": [
    {
     "data": {
      "text/plain": [
       "4081"
      ]
     },
     "execution_count": 189,
     "metadata": {},
     "output_type": "execute_result"
    }
   ],
   "source": [
    "np.count_nonzero(x)"
   ]
  },
  {
   "cell_type": "code",
   "execution_count": 190,
   "id": "7e929216",
   "metadata": {},
   "outputs": [
    {
     "data": {
      "text/plain": [
       "73094.0"
      ]
     },
     "execution_count": 190,
     "metadata": {},
     "output_type": "execute_result"
    }
   ],
   "source": [
    "x.max()"
   ]
  },
  {
   "cell_type": "code",
   "execution_count": 191,
   "id": "2d83c259",
   "metadata": {},
   "outputs": [
    {
     "data": {
      "text/plain": [
       "2764.0"
      ]
     },
     "execution_count": 191,
     "metadata": {},
     "output_type": "execute_result"
    }
   ],
   "source": [
    "x.min()"
   ]
  },
  {
   "cell_type": "code",
   "execution_count": 192,
   "id": "9accda80",
   "metadata": {},
   "outputs": [
    {
     "data": {
      "text/plain": [
       "26261.932124479295"
      ]
     },
     "execution_count": 192,
     "metadata": {},
     "output_type": "execute_result"
    }
   ],
   "source": [
    "x.mean()"
   ]
  },
  {
   "cell_type": "code",
   "execution_count": 193,
   "id": "1652c413",
   "metadata": {},
   "outputs": [
    {
     "data": {
      "text/plain": [
       "9740.107235227775"
      ]
     },
     "execution_count": 193,
     "metadata": {},
     "output_type": "execute_result"
    }
   ],
   "source": [
    "x.std()"
   ]
  },
  {
   "cell_type": "code",
   "execution_count": 194,
   "id": "90cde874",
   "metadata": {},
   "outputs": [
    {
     "data": {
      "text/plain": [
       "array([ 6897.,  5564.,  4303., ..., 32539., 39889., 34070.])"
      ]
     },
     "execution_count": 194,
     "metadata": {},
     "output_type": "execute_result"
    }
   ],
   "source": [
    "x"
   ]
  },
  {
   "cell_type": "code",
   "execution_count": 184,
   "id": "879577e6",
   "metadata": {},
   "outputs": [],
   "source": [
    "np.savetxt('test_output.txt',)"
   ]
  },
  {
   "cell_type": "code",
   "execution_count": null,
   "id": "2d4f8d2a",
   "metadata": {},
   "outputs": [],
   "source": []
  }
 ],
 "metadata": {
  "kernelspec": {
   "display_name": "Python 3 (ipykernel)",
   "language": "python",
   "name": "python3"
  },
  "language_info": {
   "codemirror_mode": {
    "name": "ipython",
    "version": 3
   },
   "file_extension": ".py",
   "mimetype": "text/x-python",
   "name": "python",
   "nbconvert_exporter": "python",
   "pygments_lexer": "ipython3",
   "version": "3.9.7"
  }
 },
 "nbformat": 4,
 "nbformat_minor": 5
}
