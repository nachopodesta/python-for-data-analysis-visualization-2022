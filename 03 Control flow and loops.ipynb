{
 "cells": [
  {
   "cell_type": "markdown",
   "id": "f09d027e",
   "metadata": {},
   "source": [
    "### 27. Python operators"
   ]
  },
  {
   "cell_type": "code",
   "execution_count": 1,
   "id": "b27f361b",
   "metadata": {},
   "outputs": [
    {
     "data": {
      "text/plain": [
       "True"
      ]
     },
     "execution_count": 1,
     "metadata": {},
     "output_type": "execute_result"
    }
   ],
   "source": [
    "10 == 10"
   ]
  },
  {
   "cell_type": "code",
   "execution_count": 2,
   "id": "94aaa922",
   "metadata": {},
   "outputs": [],
   "source": [
    "a = 10\n",
    "b = 20"
   ]
  },
  {
   "cell_type": "code",
   "execution_count": 3,
   "id": "f03ccca7",
   "metadata": {},
   "outputs": [
    {
     "data": {
      "text/plain": [
       "False"
      ]
     },
     "execution_count": 3,
     "metadata": {},
     "output_type": "execute_result"
    }
   ],
   "source": [
    "a == b"
   ]
  },
  {
   "cell_type": "code",
   "execution_count": 4,
   "id": "f52e0ded",
   "metadata": {
    "scrolled": true
   },
   "outputs": [
    {
     "data": {
      "text/plain": [
       "20"
      ]
     },
     "execution_count": 4,
     "metadata": {},
     "output_type": "execute_result"
    }
   ],
   "source": [
    "a = b\n",
    "a"
   ]
  },
  {
   "cell_type": "code",
   "execution_count": 6,
   "id": "f2dc1966",
   "metadata": {},
   "outputs": [
    {
     "data": {
      "text/plain": [
       "False"
      ]
     },
     "execution_count": 6,
     "metadata": {},
     "output_type": "execute_result"
    }
   ],
   "source": [
    "'10' == 10"
   ]
  },
  {
   "cell_type": "code",
   "execution_count": 7,
   "id": "5d600298",
   "metadata": {},
   "outputs": [
    {
     "data": {
      "text/plain": [
       "False"
      ]
     },
     "execution_count": 7,
     "metadata": {},
     "output_type": "execute_result"
    }
   ],
   "source": [
    "'tom' == 'Tom'"
   ]
  },
  {
   "cell_type": "code",
   "execution_count": 8,
   "id": "2a8315f2",
   "metadata": {},
   "outputs": [
    {
     "data": {
      "text/plain": [
       "True"
      ]
     },
     "execution_count": 8,
     "metadata": {},
     "output_type": "execute_result"
    }
   ],
   "source": [
    "[1,2,3] == [1,2,3]"
   ]
  },
  {
   "cell_type": "code",
   "execution_count": 10,
   "id": "db1f3751",
   "metadata": {},
   "outputs": [
    {
     "data": {
      "text/plain": [
       "False"
      ]
     },
     "execution_count": 10,
     "metadata": {},
     "output_type": "execute_result"
    }
   ],
   "source": [
    "[1,2,3] == [2,1,3]"
   ]
  },
  {
   "cell_type": "code",
   "execution_count": 11,
   "id": "a37627fa",
   "metadata": {},
   "outputs": [
    {
     "data": {
      "text/plain": [
       "True"
      ]
     },
     "execution_count": 11,
     "metadata": {},
     "output_type": "execute_result"
    }
   ],
   "source": [
    "10 != 20"
   ]
  },
  {
   "cell_type": "code",
   "execution_count": 12,
   "id": "8993a179",
   "metadata": {},
   "outputs": [
    {
     "data": {
      "text/plain": [
       "False"
      ]
     },
     "execution_count": 12,
     "metadata": {},
     "output_type": "execute_result"
    }
   ],
   "source": [
    "30 > 40"
   ]
  },
  {
   "cell_type": "code",
   "execution_count": 13,
   "id": "0129c01e",
   "metadata": {},
   "outputs": [
    {
     "data": {
      "text/plain": [
       "True"
      ]
     },
     "execution_count": 13,
     "metadata": {},
     "output_type": "execute_result"
    }
   ],
   "source": [
    "30 >= 30"
   ]
  },
  {
   "cell_type": "markdown",
   "id": "b73d5eef",
   "metadata": {},
   "source": [
    "#### Logical operators"
   ]
  },
  {
   "cell_type": "code",
   "execution_count": 15,
   "id": "2c035bc1",
   "metadata": {},
   "outputs": [
    {
     "data": {
      "text/plain": [
       "True"
      ]
     },
     "execution_count": 15,
     "metadata": {},
     "output_type": "execute_result"
    }
   ],
   "source": [
    "4 > 3 and 100 > 3"
   ]
  },
  {
   "cell_type": "code",
   "execution_count": 17,
   "id": "0e70ecab",
   "metadata": {},
   "outputs": [
    {
     "data": {
      "text/plain": [
       "True"
      ]
     },
     "execution_count": 17,
     "metadata": {},
     "output_type": "execute_result"
    }
   ],
   "source": [
    "3 > 1 and 3 == 3 and 4 < 100"
   ]
  },
  {
   "cell_type": "code",
   "execution_count": 18,
   "id": "f16debdd",
   "metadata": {},
   "outputs": [
    {
     "data": {
      "text/plain": [
       "True"
      ]
     },
     "execution_count": 18,
     "metadata": {},
     "output_type": "execute_result"
    }
   ],
   "source": [
    "3 < 4 "
   ]
  },
  {
   "cell_type": "code",
   "execution_count": 19,
   "id": "63a1da3c",
   "metadata": {},
   "outputs": [
    {
     "data": {
      "text/plain": [
       "False"
      ]
     },
     "execution_count": 19,
     "metadata": {},
     "output_type": "execute_result"
    }
   ],
   "source": [
    "4 < 3"
   ]
  },
  {
   "cell_type": "code",
   "execution_count": 20,
   "id": "c1828b6d",
   "metadata": {},
   "outputs": [
    {
     "data": {
      "text/plain": [
       "True"
      ]
     },
     "execution_count": 20,
     "metadata": {},
     "output_type": "execute_result"
    }
   ],
   "source": [
    "3 < 4 or 4 < 3"
   ]
  },
  {
   "cell_type": "code",
   "execution_count": 21,
   "id": "dcaa68fe",
   "metadata": {},
   "outputs": [],
   "source": [
    "a = 20\n",
    "b = 20"
   ]
  },
  {
   "cell_type": "code",
   "execution_count": 22,
   "id": "70fc6565",
   "metadata": {},
   "outputs": [
    {
     "data": {
      "text/plain": [
       "True"
      ]
     },
     "execution_count": 22,
     "metadata": {},
     "output_type": "execute_result"
    }
   ],
   "source": [
    "a is b"
   ]
  },
  {
   "cell_type": "code",
   "execution_count": 23,
   "id": "d2512aaa",
   "metadata": {},
   "outputs": [
    {
     "data": {
      "text/plain": [
       "False"
      ]
     },
     "execution_count": 23,
     "metadata": {},
     "output_type": "execute_result"
    }
   ],
   "source": [
    "a is not b"
   ]
  },
  {
   "cell_type": "markdown",
   "id": "6d8dc18b",
   "metadata": {},
   "source": [
    "### 28. Control flow"
   ]
  },
  {
   "cell_type": "markdown",
   "id": "464f718b",
   "metadata": {},
   "source": [
    "#### if condition:\n",
    "    #### <block of code to execute if True>"
   ]
  },
  {
   "cell_type": "code",
   "execution_count": 26,
   "id": "ad2d78f1",
   "metadata": {},
   "outputs": [
    {
     "name": "stdout",
     "output_type": "stream",
     "text": [
      "the condition is true\n",
      "this statement will always print\n"
     ]
    }
   ],
   "source": [
    "if 4>3:\n",
    "    print('the condition is true')\n",
    "print('this statement will always print')"
   ]
  },
  {
   "cell_type": "code",
   "execution_count": 27,
   "id": "35cb0bf3",
   "metadata": {},
   "outputs": [
    {
     "name": "stdout",
     "output_type": "stream",
     "text": [
      "this statement will always print\n"
     ]
    }
   ],
   "source": [
    "if 4<3:\n",
    "    print('the condition is true')\n",
    "print('this statement will always print')"
   ]
  },
  {
   "cell_type": "code",
   "execution_count": 28,
   "id": "5b2f6fab",
   "metadata": {},
   "outputs": [
    {
     "name": "stdout",
     "output_type": "stream",
     "text": [
      "120% of the value of x is 48.0\n"
     ]
    }
   ],
   "source": [
    "x = 40\n",
    "if x < 50:\n",
    "    print(f'120% of the value of x is {x*1.2}')"
   ]
  },
  {
   "cell_type": "code",
   "execution_count": 3,
   "id": "c5d36acc",
   "metadata": {},
   "outputs": [],
   "source": [
    "x = 60\n",
    "if x < 50:\n",
    "    print(f'120% of the value of x is {x*1.2}')"
   ]
  },
  {
   "cell_type": "code",
   "execution_count": 4,
   "id": "620bf51e",
   "metadata": {},
   "outputs": [
    {
     "name": "stdout",
     "output_type": "stream",
     "text": [
      "120% of the value of x is 48.0\n"
     ]
    }
   ],
   "source": [
    "x = 40\n",
    "if x < 50:\n",
    "    print(f'120% of the value of x is {x*1.2}')"
   ]
  },
  {
   "cell_type": "markdown",
   "id": "16b4e690",
   "metadata": {},
   "source": [
    "#### if condition:\n",
    "    #### <block of code to execute if True>\n",
    "#### else:\n",
    "    #### <block of code to execute if False>"
   ]
  },
  {
   "cell_type": "code",
   "execution_count": 5,
   "id": "4ae3396f",
   "metadata": {},
   "outputs": [
    {
     "name": "stdout",
     "output_type": "stream",
     "text": [
      "x is less than 200\n"
     ]
    }
   ],
   "source": [
    "if x < 200:\n",
    "    print(\"x is less than 200\")\n",
    "else:\n",
    "    print(\"x is not less than 200\")"
   ]
  },
  {
   "cell_type": "markdown",
   "id": "54599315",
   "metadata": {},
   "source": [
    "#### if condition:\n",
    "    #### <block of code to execute if True>\n",
    "#### elif condition:\n",
    "    #### <block of code to execute if True>\n",
    "#### else:\n",
    "    #### <block of code to execute if Frue>"
   ]
  },
  {
   "cell_type": "code",
   "execution_count": 12,
   "id": "0340b8b9",
   "metadata": {},
   "outputs": [
    {
     "name": "stdout",
     "output_type": "stream",
     "text": [
      "All conditions are False\n"
     ]
    }
   ],
   "source": [
    "if 5 > 100:\n",
    "    print(\"The if statement is True\")\n",
    "elif 5>100:\n",
    "    print(\"The second if statement is True\")\n",
    "elif 5>100:\n",
    "    print(\"The if statement is True\")\n",
    "else:\n",
    "    print('All conditions are False')"
   ]
  },
  {
   "cell_type": "code",
   "execution_count": 13,
   "id": "82b00f13",
   "metadata": {},
   "outputs": [
    {
     "name": "stdout",
     "output_type": "stream",
     "text": [
      "The if statement is True\n",
      "THe second if statement is True\n",
      "The third stateme is true\n"
     ]
    }
   ],
   "source": [
    "if 5 < 100:\n",
    "    print('The if statement is True')\n",
    "if 5 < 100:\n",
    "    print('THe second if statement is True')\n",
    "if 5 < 100:\n",
    "    print('The third statement is true')"
   ]
  },
  {
   "cell_type": "code",
   "execution_count": 14,
   "id": "2df5cc9f",
   "metadata": {},
   "outputs": [],
   "source": [
    "x = 10 "
   ]
  },
  {
   "cell_type": "code",
   "execution_count": 17,
   "id": "bc008a5d",
   "metadata": {},
   "outputs": [],
   "source": [
    "if x >= 10:\n",
    "    x = x*10"
   ]
  },
  {
   "cell_type": "code",
   "execution_count": 18,
   "id": "c36cdaeb",
   "metadata": {},
   "outputs": [
    {
     "data": {
      "text/plain": [
       "100"
      ]
     },
     "execution_count": 18,
     "metadata": {},
     "output_type": "execute_result"
    }
   ],
   "source": [
    "x"
   ]
  },
  {
   "cell_type": "markdown",
   "id": "7c781a8f",
   "metadata": {},
   "source": [
    "#### Nested statements"
   ]
  },
  {
   "cell_type": "code",
   "execution_count": 27,
   "id": "a66b938e",
   "metadata": {},
   "outputs": [],
   "source": [
    "x = 45"
   ]
  },
  {
   "cell_type": "code",
   "execution_count": 28,
   "id": "31636e99",
   "metadata": {},
   "outputs": [
    {
     "name": "stdout",
     "output_type": "stream",
     "text": [
      "x is greter than 11 but less than or equal to 50\n"
     ]
    }
   ],
   "source": [
    "if x < 11:\n",
    "    if x >= 5:\n",
    "        print('x is less than 11 but greater than 5')\n",
    "    elif x <10:\n",
    "        print('x is less than 5')\n",
    "elif x > 11:\n",
    "    if x > 50:\n",
    "        print('x is greater than 50')\n",
    "    elif x <=50:\n",
    "        print('x is greter than 11 but less than or equal to 50')"
   ]
  },
  {
   "cell_type": "code",
   "execution_count": 31,
   "id": "693d2281",
   "metadata": {},
   "outputs": [
    {
     "name": "stdout",
     "output_type": "stream",
     "text": [
      "The student has passed the exam\n"
     ]
    }
   ],
   "source": [
    "# Do not overwrite\n",
    "import random\n",
    "grade = random.randint(0,100)\n",
    "\n",
    "# Write your solution below\n",
    "if grade >= 80:\n",
    "    print(\"The student has aced the exam\")\n",
    "elif grade >= 50:\n",
    "    print(\"The student has passed the exam\")\n",
    "else:\n",
    "    print(\"The student has failed the exam, better luck next time!\")"
   ]
  },
  {
   "cell_type": "code",
   "execution_count": 34,
   "id": "26f269e4",
   "metadata": {},
   "outputs": [
    {
     "name": "stdout",
     "output_type": "stream",
     "text": [
      "The student has aced the exam\n"
     ]
    }
   ],
   "source": [
    "grade = 80\n",
    "if grade >= 80:\n",
    "    print('The student has aced the exam')\n",
    "elif grade >=50 and grade <80:\n",
    "    print('The student has passed the exam')\n",
    "else:\n",
    "    print('The student has failed the exam, better luck next time!')"
   ]
  },
  {
   "cell_type": "markdown",
   "id": "99e1dd84",
   "metadata": {},
   "source": [
    "### 30. For loops"
   ]
  },
  {
   "cell_type": "code",
   "execution_count": 38,
   "id": "a96f1261",
   "metadata": {},
   "outputs": [
    {
     "name": "stdout",
     "output_type": "stream",
     "text": [
      "1\n",
      "2\n",
      "3\n",
      "4\n",
      "5\n"
     ]
    }
   ],
   "source": [
    "list_1 = [1,2,3,4,5]\n",
    "\n",
    "for element in list_1:\n",
    "    print(element)"
   ]
  },
  {
   "cell_type": "code",
   "execution_count": 39,
   "id": "eb7038b8",
   "metadata": {},
   "outputs": [
    {
     "name": "stdout",
     "output_type": "stream",
     "text": [
      "Hello World\n",
      "Hello World\n",
      "Hello World\n",
      "Hello World\n",
      "Hello World\n"
     ]
    }
   ],
   "source": [
    "for x in list_1:\n",
    "    print(\"Hello World\")"
   ]
  },
  {
   "cell_type": "code",
   "execution_count": 40,
   "id": "21443ca3",
   "metadata": {},
   "outputs": [
    {
     "name": "stdout",
     "output_type": "stream",
     "text": [
      "1\n",
      "2\n",
      "3\n",
      "4\n",
      "5\n"
     ]
    }
   ],
   "source": [
    "for x in [1,2,3,4,5]:\n",
    "    print(x)"
   ]
  },
  {
   "cell_type": "code",
   "execution_count": 52,
   "id": "e3d183a8",
   "metadata": {},
   "outputs": [
    {
     "name": "stdout",
     "output_type": "stream",
     "text": [
      "0\n",
      "1\n",
      "2\n",
      "3\n",
      "4\n"
     ]
    }
   ],
   "source": [
    "num = 0\n",
    "\n",
    "for x in list_1:\n",
    "    print(num)\n",
    "    num += 1\n",
    "    "
   ]
  },
  {
   "cell_type": "code",
   "execution_count": 54,
   "id": "69b59589",
   "metadata": {},
   "outputs": [
    {
     "name": "stdout",
     "output_type": "stream",
     "text": [
      "11\n",
      "12\n",
      "13\n",
      "14\n",
      "15\n"
     ]
    }
   ],
   "source": [
    "for x in list_1:\n",
    "    num += 1\n",
    "    print(num)\n",
    "    "
   ]
  },
  {
   "cell_type": "code",
   "execution_count": 55,
   "id": "31f80ddb",
   "metadata": {},
   "outputs": [],
   "source": [
    "list_2 = [[1,2], [3,4], [5,6]]"
   ]
  },
  {
   "cell_type": "code",
   "execution_count": 56,
   "id": "c25baacb",
   "metadata": {},
   "outputs": [
    {
     "name": "stdout",
     "output_type": "stream",
     "text": [
      "[1, 2]\n",
      "[3, 4]\n",
      "[5, 6]\n"
     ]
    }
   ],
   "source": [
    "for x in list_2:\n",
    "    print(x)"
   ]
  },
  {
   "cell_type": "code",
   "execution_count": 57,
   "id": "4c72a6bb",
   "metadata": {},
   "outputs": [
    {
     "name": "stdout",
     "output_type": "stream",
     "text": [
      "2\n",
      "4\n",
      "6\n"
     ]
    }
   ],
   "source": [
    "for x in list_2:\n",
    "    print(x[1])"
   ]
  },
  {
   "cell_type": "code",
   "execution_count": 58,
   "id": "b203d2dd",
   "metadata": {},
   "outputs": [
    {
     "name": "stdout",
     "output_type": "stream",
     "text": [
      "1\n",
      "2\n",
      "3\n",
      "4\n",
      "5\n",
      "6\n"
     ]
    }
   ],
   "source": [
    "for x in list_2:\n",
    "    print(x[0])\n",
    "    print(x[1])"
   ]
  },
  {
   "cell_type": "code",
   "execution_count": 59,
   "id": "4e119099",
   "metadata": {},
   "outputs": [
    {
     "data": {
      "text/plain": [
       "[[1, 2], [3, 4], [5, 6]]"
      ]
     },
     "execution_count": 59,
     "metadata": {},
     "output_type": "execute_result"
    }
   ],
   "source": [
    "list_2"
   ]
  },
  {
   "cell_type": "code",
   "execution_count": 61,
   "id": "62d145dc",
   "metadata": {},
   "outputs": [
    {
     "name": "stdout",
     "output_type": "stream",
     "text": [
      "1\n",
      "2\n",
      "3\n",
      "4\n",
      "5\n",
      "6\n"
     ]
    }
   ],
   "source": [
    "for x in list_2:\n",
    "    for y in x:\n",
    "        print(y)"
   ]
  },
  {
   "cell_type": "code",
   "execution_count": 62,
   "id": "d80b3ee6",
   "metadata": {},
   "outputs": [
    {
     "name": "stdout",
     "output_type": "stream",
     "text": [
      "[1, 2]\n",
      "[3, 4]\n",
      "[5, 6]\n"
     ]
    }
   ],
   "source": [
    "for x in list_2:\n",
    "    print(x)"
   ]
  },
  {
   "cell_type": "code",
   "execution_count": 63,
   "id": "5c690522",
   "metadata": {},
   "outputs": [
    {
     "name": "stdout",
     "output_type": "stream",
     "text": [
      "1\n",
      "2\n",
      "3\n",
      "4\n",
      "5\n",
      "6\n"
     ]
    }
   ],
   "source": [
    "for [a,b] in list_2:\n",
    "    print(a)\n",
    "    print(b)"
   ]
  },
  {
   "cell_type": "code",
   "execution_count": 65,
   "id": "2c5af938",
   "metadata": {},
   "outputs": [
    {
     "name": "stdout",
     "output_type": "stream",
     "text": [
      "1\n",
      "2\n",
      "3\n",
      "4\n",
      "5\n",
      "6\n",
      "7\n"
     ]
    }
   ],
   "source": [
    "list_3 = [[1,2],[3,4,5],[6,7]]\n",
    "\n",
    "for x in list_3:\n",
    "    for y in x:\n",
    "        print(y)"
   ]
  },
  {
   "cell_type": "code",
   "execution_count": 66,
   "id": "6b2a9e7d",
   "metadata": {},
   "outputs": [
    {
     "name": "stdout",
     "output_type": "stream",
     "text": [
      "1\n",
      "2\n",
      "3\n",
      "4\n",
      "5\n"
     ]
    }
   ],
   "source": [
    "tup_1 = (1,2,3,4,5)\n",
    "\n",
    "for x in tup_1:\n",
    "    print(x)"
   ]
  },
  {
   "cell_type": "code",
   "execution_count": 67,
   "id": "15023120",
   "metadata": {},
   "outputs": [
    {
     "name": "stdout",
     "output_type": "stream",
     "text": [
      "1\n",
      "2\n",
      "3\n",
      "4\n",
      "5\n",
      "6\n"
     ]
    }
   ],
   "source": [
    "tup_2 = ((1,2), (3,4), (5,6))\n",
    "for a,b in tup_2:\n",
    "    print(a)\n",
    "    print(b)"
   ]
  },
  {
   "cell_type": "code",
   "execution_count": 68,
   "id": "9b995be6",
   "metadata": {},
   "outputs": [
    {
     "name": "stdout",
     "output_type": "stream",
     "text": [
      "1\n",
      "2\n",
      "3\n",
      "4\n",
      "5\n",
      "6\n"
     ]
    }
   ],
   "source": [
    "list_4 = [(1,2),(3,4),(5,6)]\n",
    "\n",
    "for a,b in list_4:\n",
    "    print(a)\n",
    "    print(b)"
   ]
  },
  {
   "cell_type": "code",
   "execution_count": 69,
   "id": "f64c6cde",
   "metadata": {},
   "outputs": [
    {
     "name": "stdout",
     "output_type": "stream",
     "text": [
      "1\n",
      "2\n",
      "3\n",
      "4\n",
      "5\n",
      "6\n"
     ]
    }
   ],
   "source": [
    "list_5 = [(1,2), [3,4], {5,6}]\n",
    "\n",
    "for a,b in list_5:\n",
    "    print(a)\n",
    "    print(b)"
   ]
  },
  {
   "cell_type": "code",
   "execution_count": 73,
   "id": "a9ed776c",
   "metadata": {},
   "outputs": [
    {
     "name": "stdout",
     "output_type": "stream",
     "text": [
      "lamp\n",
      "sofa\n",
      "tv\n",
      "desk\n"
     ]
    }
   ],
   "source": [
    "set_1 = {'tv', 'sofa', 'desk', \"lamp\"}\n",
    "for x in set_1:\n",
    "    print(x)\n",
    " "
   ]
  },
  {
   "cell_type": "markdown",
   "id": "b3a7f30e",
   "metadata": {},
   "source": [
    "#### String"
   ]
  },
  {
   "cell_type": "code",
   "execution_count": 74,
   "id": "5b85fd3e",
   "metadata": {},
   "outputs": [
    {
     "name": "stdout",
     "output_type": "stream",
     "text": [
      "H\n",
      "e\n",
      "l\n",
      "l\n",
      "o\n",
      " \n",
      "W\n",
      "o\n",
      "r\n",
      "l\n",
      "d\n"
     ]
    }
   ],
   "source": [
    "str_1 = \"Hello World\" \n",
    "for x in str_1:\n",
    "    print(x)"
   ]
  },
  {
   "cell_type": "markdown",
   "id": "ee15e793",
   "metadata": {},
   "source": [
    "#### Dictionaries"
   ]
  },
  {
   "cell_type": "code",
   "execution_count": 75,
   "id": "d171bbfb",
   "metadata": {},
   "outputs": [
    {
     "name": "stdout",
     "output_type": "stream",
     "text": [
      "key1\n",
      "key2\n"
     ]
    }
   ],
   "source": [
    "dict_1 = {'key1':'value','key2':'value2'}\n",
    "for x in dict_1:\n",
    "    print(x)"
   ]
  },
  {
   "cell_type": "code",
   "execution_count": 78,
   "id": "7026141b",
   "metadata": {},
   "outputs": [
    {
     "data": {
      "text/plain": [
       "dict_items([('key1', 'value'), ('key2', 'value2')])"
      ]
     },
     "execution_count": 78,
     "metadata": {},
     "output_type": "execute_result"
    }
   ],
   "source": [
    "dict_1.items()"
   ]
  },
  {
   "cell_type": "code",
   "execution_count": 79,
   "id": "0a033fa3",
   "metadata": {},
   "outputs": [
    {
     "name": "stdout",
     "output_type": "stream",
     "text": [
      "key1\n",
      "value\n",
      "key2\n",
      "value2\n"
     ]
    }
   ],
   "source": [
    "for k,v in dict_1.items():\n",
    "    print(k)\n",
    "    print(v)"
   ]
  },
  {
   "cell_type": "markdown",
   "id": "c2dde73c",
   "metadata": {},
   "source": [
    "#### Control flow with for loops"
   ]
  },
  {
   "cell_type": "code",
   "execution_count": 80,
   "id": "5785be05",
   "metadata": {},
   "outputs": [
    {
     "name": "stdout",
     "output_type": "stream",
     "text": [
      "sofa\n",
      "desk\n",
      "lamp\n"
     ]
    }
   ],
   "source": [
    "furniture = ['sofa', 'desk', 'lamp', 'tv']\n",
    "for x in furniture:\n",
    "    if x != 'tv':\n",
    "        print(x)"
   ]
  },
  {
   "cell_type": "code",
   "execution_count": 81,
   "id": "336980f1",
   "metadata": {},
   "outputs": [
    {
     "name": "stdout",
     "output_type": "stream",
     "text": [
      "11\n",
      "20\n",
      "33\n",
      "42\n",
      "52\n",
      "61\n",
      "72\n",
      "83\n",
      "92\n",
      "10\n"
     ]
    }
   ],
   "source": [
    "# Do not overwrite\n",
    "list_1 = [11,20,33,42,52,61,72,83,92,10]\n",
    "\n",
    "# Write your solution here\n",
    "for x in list_1:\n",
    "    print(x)\n"
   ]
  },
  {
   "cell_type": "code",
   "execution_count": 84,
   "id": "34337072",
   "metadata": {},
   "outputs": [
    {
     "name": "stdout",
     "output_type": "stream",
     "text": [
      "20\n",
      "42\n",
      "52\n",
      "72\n",
      "92\n",
      "10\n"
     ]
    }
   ],
   "source": [
    "# Do not overwrite\n",
    "list_1 = [11,20,33,42,52,61,72,83,92,10]\n",
    "\n",
    "# Write your solution here\n",
    "for x in list_1:\n",
    "    if x % 2 == 0:\n",
    "        print(x)"
   ]
  },
  {
   "cell_type": "markdown",
   "id": "c61aba21",
   "metadata": {},
   "source": [
    "### 34. While loops\n",
    "\n"
   ]
  },
  {
   "cell_type": "markdown",
   "id": "47691434",
   "metadata": {},
   "source": [
    "#### while condition:\n",
    "    #### <block of code to execute>"
   ]
  },
  {
   "cell_type": "code",
   "execution_count": 85,
   "id": "a40f2c3d",
   "metadata": {},
   "outputs": [
    {
     "name": "stdout",
     "output_type": "stream",
     "text": [
      "a is less than 5\n",
      "a is less than 5\n",
      "a is less than 5\n",
      "a is less than 5\n",
      "a is less than 5\n"
     ]
    }
   ],
   "source": [
    "a = 0 \n",
    "\n",
    "while a<5:\n",
    "    print('a is less than 5')\n",
    "    a+=1"
   ]
  },
  {
   "cell_type": "code",
   "execution_count": 87,
   "id": "62d468e9",
   "metadata": {},
   "outputs": [
    {
     "name": "stdout",
     "output_type": "stream",
     "text": [
      "The value of a is 1\n",
      "The value of a is 2\n",
      "The value of a is 3\n",
      "The value of a is 4\n",
      "The value of a is 5\n"
     ]
    }
   ],
   "source": [
    "a = 0\n",
    "\n",
    "while a < 5:\n",
    "    a+=1\n",
    "    print(f'The value of a is {a}')"
   ]
  },
  {
   "cell_type": "code",
   "execution_count": 89,
   "id": "c7060def",
   "metadata": {},
   "outputs": [
    {
     "name": "stdout",
     "output_type": "stream",
     "text": [
      "Value of i is 2\n",
      "Value of i is 3\n",
      "Value of i is 4\n",
      "Value of i is 5\n",
      "Value of i is 6\n",
      "Value of i is 7\n",
      "Value of i is 8\n",
      "Value of i is 9\n",
      "Value of i is 10\n",
      "Value of i is 11\n",
      "Value of i is 12\n",
      "Value of i is 13\n",
      "Value of i is 14\n",
      "Value of i is 15\n",
      "Value of i is 16\n"
     ]
    }
   ],
   "source": [
    "i = 0\n",
    "\n",
    "while i < 15:\n",
    "    i+=1\n",
    "    print(f'Value of i is {i+1}')"
   ]
  },
  {
   "cell_type": "markdown",
   "id": "f3500ed5",
   "metadata": {},
   "source": [
    "### Break, continue and pass"
   ]
  },
  {
   "cell_type": "code",
   "execution_count": 91,
   "id": "8d5b9710",
   "metadata": {},
   "outputs": [],
   "source": [
    "number = 2\n",
    "\n",
    "if number == 2:\n",
    "    pass\n",
    "else:\n",
    "    print(number)"
   ]
  },
  {
   "cell_type": "code",
   "execution_count": 92,
   "id": "b623ec6b",
   "metadata": {},
   "outputs": [
    {
     "name": "stdout",
     "output_type": "stream",
     "text": [
      "0\n",
      "1\n",
      "2\n",
      "3\n",
      "4\n",
      "6\n",
      "7\n",
      "8\n",
      "9\n",
      "10\n"
     ]
    }
   ],
   "source": [
    "num = [0,1,2,3,4,5,6,7,8,9,10]\n",
    "\n",
    "for x in num:\n",
    "    if x == 5:\n",
    "        pass\n",
    "    else:\n",
    "        print(x)"
   ]
  },
  {
   "cell_type": "code",
   "execution_count": 93,
   "id": "8a423167",
   "metadata": {},
   "outputs": [
    {
     "name": "stdout",
     "output_type": "stream",
     "text": [
      "0\n",
      "1\n",
      "2\n",
      "3\n",
      "4\n"
     ]
    }
   ],
   "source": [
    "num = [0,1,2,3,4,5,6,7,8,9,10]\n",
    "\n",
    "for x in num:\n",
    "    if x == 5:\n",
    "        break\n",
    "    else:\n",
    "        print(x)"
   ]
  },
  {
   "cell_type": "code",
   "execution_count": 94,
   "id": "4f04f829",
   "metadata": {},
   "outputs": [
    {
     "name": "stdout",
     "output_type": "stream",
     "text": [
      "0\n",
      "1\n",
      "2\n",
      "3\n",
      "4\n",
      "6\n",
      "7\n",
      "8\n",
      "9\n",
      "10\n"
     ]
    }
   ],
   "source": [
    "num = [0,1,2,3,4,5,6,7,8,9,10]\n",
    "\n",
    "for x in num:\n",
    "    if x == 5:\n",
    "        continue\n",
    "    else:\n",
    "        print(x)"
   ]
  },
  {
   "cell_type": "markdown",
   "id": "9ac486dd",
   "metadata": {},
   "source": [
    "#### 36. List Comprehension"
   ]
  },
  {
   "cell_type": "code",
   "execution_count": 95,
   "id": "c65ad37d",
   "metadata": {},
   "outputs": [],
   "source": [
    "hw_text = 'hello world'\n",
    "hw_list = []"
   ]
  },
  {
   "cell_type": "code",
   "execution_count": 96,
   "id": "05112d29",
   "metadata": {},
   "outputs": [],
   "source": [
    "for character in hw_text:\n",
    "    hw_list.append(character)"
   ]
  },
  {
   "cell_type": "code",
   "execution_count": 97,
   "id": "0139a587",
   "metadata": {},
   "outputs": [
    {
     "data": {
      "text/plain": [
       "['h', 'e', 'l', 'l', 'o', ' ', 'w', 'o', 'r', 'l', 'd']"
      ]
     },
     "execution_count": 97,
     "metadata": {},
     "output_type": "execute_result"
    }
   ],
   "source": [
    "hw_list"
   ]
  },
  {
   "cell_type": "code",
   "execution_count": 100,
   "id": "95a1d552",
   "metadata": {},
   "outputs": [],
   "source": [
    "hw_list = [character for character in hw_text]"
   ]
  },
  {
   "cell_type": "code",
   "execution_count": 101,
   "id": "ca460f87",
   "metadata": {},
   "outputs": [
    {
     "data": {
      "text/plain": [
       "['h', 'e', 'l', 'l', 'o', ' ', 'w', 'o', 'r', 'l', 'd']"
      ]
     },
     "execution_count": 101,
     "metadata": {},
     "output_type": "execute_result"
    }
   ],
   "source": [
    "hw_list"
   ]
  },
  {
   "cell_type": "code",
   "execution_count": 102,
   "id": "05cd4721",
   "metadata": {},
   "outputs": [
    {
     "data": {
      "text/plain": [
       "['H', 'E', 'L', 'L', 'O', ' ', 'W', 'O', 'R', 'L', 'D']"
      ]
     },
     "execution_count": 102,
     "metadata": {},
     "output_type": "execute_result"
    }
   ],
   "source": [
    "hw_list = [character.upper() for character in hw_text]\n",
    "hw_list"
   ]
  },
  {
   "cell_type": "code",
   "execution_count": 104,
   "id": "e435ce4c",
   "metadata": {},
   "outputs": [
    {
     "data": {
      "text/plain": [
       "['hh', 'ee', 'll', 'll', 'oo', '  ', 'ww', 'oo', 'rr', 'll', 'dd']"
      ]
     },
     "execution_count": 104,
     "metadata": {},
     "output_type": "execute_result"
    }
   ],
   "source": [
    "hw_list = [character+character for character in hw_text]\n",
    "hw_list"
   ]
  },
  {
   "cell_type": "code",
   "execution_count": 105,
   "id": "305179b3",
   "metadata": {},
   "outputs": [
    {
     "data": {
      "text/plain": [
       "['hh', 'ee', 'll', 'll', 'oo', '  ', 'ww', 'oo', 'rr', 'll', 'dd']"
      ]
     },
     "execution_count": 105,
     "metadata": {},
     "output_type": "execute_result"
    }
   ],
   "source": [
    "hw_list = []\n",
    "\n",
    "for character in hw_text:\n",
    "    hw_list.append(character+character)\n",
    "    \n",
    "hw_list"
   ]
  },
  {
   "cell_type": "code",
   "execution_count": 106,
   "id": "408fa9a3",
   "metadata": {},
   "outputs": [
    {
     "name": "stdout",
     "output_type": "stream",
     "text": [
      "320\n",
      "32\n",
      "48\n",
      "64\n",
      "80\n"
     ]
    }
   ],
   "source": [
    "# Do not overwrite\n",
    "list_1 = [20,2,3,4,5]\n",
    "\n",
    "# Write your code below\n",
    "for x in list_1:\n",
    "    print(x*16)"
   ]
  },
  {
   "cell_type": "code",
   "execution_count": 111,
   "id": "deaa3c19",
   "metadata": {},
   "outputs": [
    {
     "data": {
      "text/plain": [
       "[320, 32, 48, 64, 80]"
      ]
     },
     "execution_count": 111,
     "metadata": {},
     "output_type": "execute_result"
    }
   ],
   "source": [
    "# Do not overwrite\n",
    "list_1 = [20,2,3,4,5]\n",
    "\n",
    "# Write your code below\n",
    "list_2 = [x*16 for x in list_1]\n",
    "\n",
    "list_2"
   ]
  },
  {
   "cell_type": "markdown",
   "id": "0d841dfa",
   "metadata": {},
   "source": [
    "#### In Not In operators"
   ]
  },
  {
   "cell_type": "code",
   "execution_count": 112,
   "id": "12602df2",
   "metadata": {},
   "outputs": [
    {
     "data": {
      "text/plain": [
       "True"
      ]
     },
     "execution_count": 112,
     "metadata": {},
     "output_type": "execute_result"
    }
   ],
   "source": [
    "list_1 = [1,2,3,4]\n",
    "\n",
    "4 in list_1"
   ]
  },
  {
   "cell_type": "code",
   "execution_count": 113,
   "id": "a561bc28",
   "metadata": {},
   "outputs": [
    {
     "data": {
      "text/plain": [
       "False"
      ]
     },
     "execution_count": 113,
     "metadata": {},
     "output_type": "execute_result"
    }
   ],
   "source": [
    "6 in list_1"
   ]
  },
  {
   "cell_type": "code",
   "execution_count": 115,
   "id": "ed2feb84",
   "metadata": {},
   "outputs": [
    {
     "data": {
      "text/plain": [
       "False"
      ]
     },
     "execution_count": 115,
     "metadata": {},
     "output_type": "execute_result"
    }
   ],
   "source": [
    "tup_1 = (1,2,3,4)\n",
    "set_1 = {1,2,3,4}\n",
    "\n",
    "2 in tup_1\n",
    "2 not in tup_1"
   ]
  },
  {
   "cell_type": "code",
   "execution_count": 116,
   "id": "d0d78f19",
   "metadata": {},
   "outputs": [
    {
     "data": {
      "text/plain": [
       "True"
      ]
     },
     "execution_count": 116,
     "metadata": {},
     "output_type": "execute_result"
    }
   ],
   "source": [
    "str_1 = 'Hello'\n",
    "'H' in str_1"
   ]
  },
  {
   "cell_type": "code",
   "execution_count": 117,
   "id": "7130bff2",
   "metadata": {},
   "outputs": [
    {
     "data": {
      "text/plain": [
       "{'key1': 'value', 'key2': 'value2'}"
      ]
     },
     "execution_count": 117,
     "metadata": {},
     "output_type": "execute_result"
    }
   ],
   "source": [
    "dict_1"
   ]
  },
  {
   "cell_type": "code",
   "execution_count": 119,
   "id": "71f61f1b",
   "metadata": {},
   "outputs": [
    {
     "data": {
      "text/plain": [
       "True"
      ]
     },
     "execution_count": 119,
     "metadata": {},
     "output_type": "execute_result"
    }
   ],
   "source": [
    "'key1' in dict_1"
   ]
  },
  {
   "cell_type": "code",
   "execution_count": 120,
   "id": "963af034",
   "metadata": {},
   "outputs": [
    {
     "data": {
      "text/plain": [
       "dict_values(['value', 'value2'])"
      ]
     },
     "execution_count": 120,
     "metadata": {},
     "output_type": "execute_result"
    }
   ],
   "source": [
    "dict_1.values()"
   ]
  },
  {
   "cell_type": "code",
   "execution_count": 121,
   "id": "7b9ff638",
   "metadata": {},
   "outputs": [
    {
     "data": {
      "text/plain": [
       "False"
      ]
     },
     "execution_count": 121,
     "metadata": {},
     "output_type": "execute_result"
    }
   ],
   "source": [
    "'value1' in dict_1.values()"
   ]
  }
 ],
 "metadata": {
  "kernelspec": {
   "display_name": "Python 3 (ipykernel)",
   "language": "python",
   "name": "python3"
  },
  "language_info": {
   "codemirror_mode": {
    "name": "ipython",
    "version": 3
   },
   "file_extension": ".py",
   "mimetype": "text/x-python",
   "name": "python",
   "nbconvert_exporter": "python",
   "pygments_lexer": "ipython3",
   "version": "3.9.7"
  }
 },
 "nbformat": 4,
 "nbformat_minor": 5
}
