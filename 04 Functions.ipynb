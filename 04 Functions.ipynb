{
 "cells": [
  {
   "cell_type": "markdown",
   "id": "3336198a",
   "metadata": {},
   "source": [
    "### 39. Built-In Functions"
   ]
  },
  {
   "cell_type": "code",
   "execution_count": 1,
   "id": "aaf0e7fd",
   "metadata": {},
   "outputs": [
    {
     "data": {
      "text/plain": [
       "[0, 1, 2, 3, 4, 5, 6, 7, 8, 9]"
      ]
     },
     "execution_count": 1,
     "metadata": {},
     "output_type": "execute_result"
    }
   ],
   "source": [
    "list = list(range(10))\n",
    "list"
   ]
  },
  {
   "cell_type": "code",
   "execution_count": 2,
   "id": "bb9c0297",
   "metadata": {},
   "outputs": [
    {
     "data": {
      "text/plain": [
       "9"
      ]
     },
     "execution_count": 2,
     "metadata": {},
     "output_type": "execute_result"
    }
   ],
   "source": [
    "max(list)"
   ]
  },
  {
   "cell_type": "code",
   "execution_count": 3,
   "id": "a23a041c",
   "metadata": {},
   "outputs": [
    {
     "data": {
      "text/plain": [
       "0"
      ]
     },
     "execution_count": 3,
     "metadata": {},
     "output_type": "execute_result"
    }
   ],
   "source": [
    "min(list)"
   ]
  },
  {
   "cell_type": "code",
   "execution_count": 4,
   "id": "f4a86516",
   "metadata": {},
   "outputs": [
    {
     "data": {
      "text/plain": [
       "10"
      ]
     },
     "execution_count": 4,
     "metadata": {},
     "output_type": "execute_result"
    }
   ],
   "source": [
    "len(list)"
   ]
  },
  {
   "cell_type": "code",
   "execution_count": 7,
   "id": "45d0a7b9",
   "metadata": {},
   "outputs": [
    {
     "data": {
      "text/plain": [
       "'d'"
      ]
     },
     "execution_count": 7,
     "metadata": {},
     "output_type": "execute_result"
    }
   ],
   "source": [
    "liststr = ['a','b','c','d']\n",
    "min(liststr)\n",
    "max(liststr)"
   ]
  },
  {
   "cell_type": "code",
   "execution_count": 8,
   "id": "ffda0798",
   "metadata": {},
   "outputs": [
    {
     "data": {
      "text/plain": [
       "4"
      ]
     },
     "execution_count": 8,
     "metadata": {},
     "output_type": "execute_result"
    }
   ],
   "source": [
    "len(liststr)"
   ]
  },
  {
   "cell_type": "code",
   "execution_count": 9,
   "id": "39187b6b",
   "metadata": {},
   "outputs": [
    {
     "data": {
      "text/plain": [
       "33.333333333333336"
      ]
     },
     "execution_count": 9,
     "metadata": {},
     "output_type": "execute_result"
    }
   ],
   "source": [
    "x = 100/3\n",
    "x"
   ]
  },
  {
   "cell_type": "code",
   "execution_count": 13,
   "id": "944a5c7e",
   "metadata": {},
   "outputs": [
    {
     "data": {
      "text/plain": [
       "33.33333"
      ]
     },
     "execution_count": 13,
     "metadata": {},
     "output_type": "execute_result"
    }
   ],
   "source": [
    "round(x,5)"
   ]
  },
  {
   "cell_type": "code",
   "execution_count": 26,
   "id": "bf11ed87",
   "metadata": {},
   "outputs": [
    {
     "name": "stdout",
     "output_type": "stream",
     "text": [
      "0\n",
      "2\n",
      "4\n",
      "6\n",
      "8\n",
      "10\n"
     ]
    }
   ],
   "source": [
    "r = range(0,11,2)\n",
    "\n",
    "for x in r:\n",
    "    print(x)"
   ]
  },
  {
   "cell_type": "code",
   "execution_count": 29,
   "id": "641b9ba6",
   "metadata": {},
   "outputs": [
    {
     "data": {
      "text/plain": [
       "['e', 'h', 'l', 'l', 'o']"
      ]
     },
     "execution_count": 29,
     "metadata": {},
     "output_type": "execute_result"
    }
   ],
   "source": [
    "sorted('hello')"
   ]
  },
  {
   "cell_type": "code",
   "execution_count": 30,
   "id": "e45f6333",
   "metadata": {},
   "outputs": [
    {
     "data": {
      "text/plain": [
       "[1, 2, 2, 4, 4, 5, 7, 67]"
      ]
     },
     "execution_count": 30,
     "metadata": {},
     "output_type": "execute_result"
    }
   ],
   "source": [
    "sorted([1,4,2,4,2,5,67,7])"
   ]
  },
  {
   "cell_type": "code",
   "execution_count": 31,
   "id": "2b7cf4e2",
   "metadata": {},
   "outputs": [
    {
     "name": "stdout",
     "output_type": "stream",
     "text": [
      "Insert your name: nacho\n",
      "nacho\n"
     ]
    }
   ],
   "source": [
    "x = input('Insert your name: ')\n",
    "print(x)"
   ]
  },
  {
   "cell_type": "code",
   "execution_count": 32,
   "id": "d0d1a508",
   "metadata": {},
   "outputs": [
    {
     "data": {
      "text/plain": [
       "str"
      ]
     },
     "execution_count": 32,
     "metadata": {},
     "output_type": "execute_result"
    }
   ],
   "source": [
    "type(x)"
   ]
  },
  {
   "cell_type": "code",
   "execution_count": 34,
   "id": "059b94bd",
   "metadata": {},
   "outputs": [
    {
     "data": {
      "text/plain": [
       "<zip at 0x204a9ca8200>"
      ]
     },
     "execution_count": 34,
     "metadata": {},
     "output_type": "execute_result"
    }
   ],
   "source": [
    "list1 = [1,2,3,4]\n",
    "tup1 = (1,2,3,4)\n",
    "string1 = 'Hello'\n",
    "\n",
    "x = zip(list1, tup1, string1)\n",
    "x"
   ]
  },
  {
   "cell_type": "code",
   "execution_count": 41,
   "id": "8696a16e",
   "metadata": {},
   "outputs": [
    {
     "data": {
      "text/plain": [
       "[1, 2, 3, 4]"
      ]
     },
     "execution_count": 41,
     "metadata": {},
     "output_type": "execute_result"
    }
   ],
   "source": [
    "list1"
   ]
  },
  {
   "cell_type": "code",
   "execution_count": 48,
   "id": "824173c8",
   "metadata": {},
   "outputs": [
    {
     "data": {
      "text/plain": [
       "{0: 11, 1: 12, 2: 13, 3: 14}"
      ]
     },
     "execution_count": 48,
     "metadata": {},
     "output_type": "execute_result"
    }
   ],
   "source": [
    "x = [11,12,13,14]\n",
    "dict(enumerate(x))"
   ]
  },
  {
   "cell_type": "code",
   "execution_count": 53,
   "id": "ff23a933",
   "metadata": {},
   "outputs": [
    {
     "name": "stdout",
     "output_type": "stream",
     "text": [
      "217.121\n",
      "99\n",
      "[2, 15, 17.823, 83.298, 99]\n"
     ]
    }
   ],
   "source": [
    "# Do not overwrite\n",
    "num = [99,83.298,2,17.823,15]\n",
    "\n",
    "# Write your code here\n",
    "sum_num = sum(num)\n",
    "max_num = max(num)\n",
    "sorted_num = sorted(num)\n",
    "\n",
    "print(sum_num)\n",
    "print(max_num)\n",
    "print(sorted_num)"
   ]
  },
  {
   "cell_type": "markdown",
   "id": "634006ba",
   "metadata": {},
   "source": [
    "#### 41. User Defined Functions"
   ]
  },
  {
   "cell_type": "markdown",
   "id": "a1b26e2c",
   "metadata": {},
   "source": [
    "#### def function_name(arguments):\n",
    "    ####<block of code to execute when function is called>"
   ]
  },
  {
   "cell_type": "code",
   "execution_count": 54,
   "id": "940434b1",
   "metadata": {},
   "outputs": [],
   "source": [
    "def welcome_message():\n",
    "    print('welcome')"
   ]
  },
  {
   "cell_type": "code",
   "execution_count": 55,
   "id": "70bb7981",
   "metadata": {},
   "outputs": [
    {
     "name": "stdout",
     "output_type": "stream",
     "text": [
      "welcome\n"
     ]
    }
   ],
   "source": [
    "welcome_message()"
   ]
  },
  {
   "cell_type": "code",
   "execution_count": 56,
   "id": "9cf06165",
   "metadata": {},
   "outputs": [
    {
     "name": "stdout",
     "output_type": "stream",
     "text": [
      "Welcome to Nacho\n"
     ]
    }
   ],
   "source": [
    "def welcome_name(x):\n",
    "    print(f'Welcome to {x}')\n",
    "\n",
    "welcome_name('Nacho')"
   ]
  },
  {
   "cell_type": "code",
   "execution_count": 60,
   "id": "87e95747",
   "metadata": {},
   "outputs": [
    {
     "name": "stdout",
     "output_type": "stream",
     "text": [
      "welcom Nacho, Martin, Jose\n"
     ]
    }
   ],
   "source": [
    "def welcome_message(x,y,z):\n",
    "    print(f'welcom {x}, {y}, {z}')\n",
    "\n",
    "welcome_message('Nacho', 'Martin', 'Jose')"
   ]
  },
  {
   "cell_type": "code",
   "execution_count": null,
   "id": "3715577a",
   "metadata": {},
   "outputs": [],
   "source": [
    "def welcome_message(x = 'name1', y = 'name2', z = 'name3'):\n",
    "    print(f'welcom {x}, {y}, {z}')"
   ]
  },
  {
   "cell_type": "code",
   "execution_count": 61,
   "id": "359dcc63",
   "metadata": {},
   "outputs": [
    {
     "data": {
      "text/plain": [
       "'hello this message has been printed'"
      ]
     },
     "execution_count": 61,
     "metadata": {},
     "output_type": "execute_result"
    }
   ],
   "source": [
    "def print_message():\n",
    "    print(f'hello this message has been printed')\n",
    "\n",
    "def return_message():\n",
    "    return 'hello this message has been printed'\n",
    "\n",
    "return_message()"
   ]
  },
  {
   "cell_type": "markdown",
   "id": "02a14305",
   "metadata": {},
   "source": [
    "#### 42. Examples"
   ]
  },
  {
   "cell_type": "code",
   "execution_count": 2,
   "id": "d15e6389",
   "metadata": {},
   "outputs": [],
   "source": [
    "list_1 = [3,10,11,3]"
   ]
  },
  {
   "cell_type": "code",
   "execution_count": 3,
   "id": "cdfdf4dc",
   "metadata": {},
   "outputs": [
    {
     "data": {
      "text/plain": [
       "6.75"
      ]
     },
     "execution_count": 3,
     "metadata": {},
     "output_type": "execute_result"
    }
   ],
   "source": [
    "sum(list_1)/len(list_1)"
   ]
  },
  {
   "cell_type": "code",
   "execution_count": 4,
   "id": "511d91c4",
   "metadata": {},
   "outputs": [
    {
     "data": {
      "text/plain": [
       "6.75"
      ]
     },
     "execution_count": 4,
     "metadata": {},
     "output_type": "execute_result"
    }
   ],
   "source": [
    "def avg(x):\n",
    "    return sum(x)/len(x)\n",
    "\n",
    "avg(list_1)"
   ]
  },
  {
   "cell_type": "code",
   "execution_count": 5,
   "id": "5d94fcb4",
   "metadata": {
    "scrolled": true
   },
   "outputs": [
    {
     "data": {
      "text/plain": [
       "[1, 2, 3, 4, 5, 6, 7, 8, 9, 10]"
      ]
     },
     "execution_count": 5,
     "metadata": {},
     "output_type": "execute_result"
    }
   ],
   "source": [
    "x = [1,2,3,4,5,6,7,8,9,10]\n",
    "x"
   ]
  },
  {
   "cell_type": "code",
   "execution_count": 6,
   "id": "11bae08c",
   "metadata": {},
   "outputs": [],
   "source": [
    "def create_ranged_list():\n",
    "    x=int(input('Please select a star parameter'))\n",
    "    y=int(input('Please select a stop parameter'))\n",
    "    z=int(input('Please select a step parameter'))\n",
    "    return list(range(x,y,z))"
   ]
  },
  {
   "cell_type": "code",
   "execution_count": 7,
   "id": "68d32b79",
   "metadata": {},
   "outputs": [
    {
     "name": "stdout",
     "output_type": "stream",
     "text": [
      "Please select a star parameter1\n",
      "Please select a stop parameter10\n",
      "Please select a step parameter2\n"
     ]
    },
    {
     "data": {
      "text/plain": [
       "[1, 3, 5, 7, 9]"
      ]
     },
     "execution_count": 7,
     "metadata": {},
     "output_type": "execute_result"
    }
   ],
   "source": [
    "create_ranged_list()"
   ]
  },
  {
   "cell_type": "code",
   "execution_count": 8,
   "id": "26b38c11",
   "metadata": {},
   "outputs": [],
   "source": [
    "def greater_than_10(x):\n",
    "    for element in x:\n",
    "        if element > 10:\n",
    "            return True\n",
    "        else:\n",
    "            pass\n",
    "    return False"
   ]
  },
  {
   "cell_type": "code",
   "execution_count": 9,
   "id": "4cb66378",
   "metadata": {},
   "outputs": [
    {
     "data": {
      "text/plain": [
       "True"
      ]
     },
     "execution_count": 9,
     "metadata": {},
     "output_type": "execute_result"
    }
   ],
   "source": [
    "greater_than_10([1,3,11])"
   ]
  },
  {
   "cell_type": "code",
   "execution_count": 10,
   "id": "9b2aba7b",
   "metadata": {},
   "outputs": [],
   "source": [
    "def name_check(list_of_names):\n",
    "    for name in list_of_names:\n",
    "        if len(name)>10:\n",
    "            return True\n",
    "        else:\n",
    "            pass\n",
    "    return False"
   ]
  },
  {
   "cell_type": "markdown",
   "id": "5973fe57",
   "metadata": {},
   "source": [
    "#### 45. Arguments and Keyword Arguments"
   ]
  },
  {
   "cell_type": "code",
   "execution_count": 11,
   "id": "bf1d47d0",
   "metadata": {},
   "outputs": [
    {
     "data": {
      "text/plain": [
       "7"
      ]
     },
     "execution_count": 11,
     "metadata": {},
     "output_type": "execute_result"
    }
   ],
   "source": [
    "def sum_func(x,y):\n",
    "    return x+y\n",
    "\n",
    "sum_func(3,4)"
   ]
  },
  {
   "cell_type": "code",
   "execution_count": 12,
   "id": "fbf5cd7a",
   "metadata": {},
   "outputs": [],
   "source": [
    "def sum_func(x=0, y=0, z=0):\n",
    "    return x+y+z"
   ]
  },
  {
   "cell_type": "code",
   "execution_count": 13,
   "id": "5d5bc2e3",
   "metadata": {},
   "outputs": [
    {
     "data": {
      "text/plain": [
       "6"
      ]
     },
     "execution_count": 13,
     "metadata": {},
     "output_type": "execute_result"
    }
   ],
   "source": [
    "sum_func(1,2,3)"
   ]
  },
  {
   "cell_type": "code",
   "execution_count": 14,
   "id": "c21dcd9c",
   "metadata": {},
   "outputs": [
    {
     "name": "stdout",
     "output_type": "stream",
     "text": [
      "<class 'tuple'>\n"
     ]
    },
    {
     "data": {
      "text/plain": [
       "(1, 2, 3, 4)"
      ]
     },
     "execution_count": 14,
     "metadata": {},
     "output_type": "execute_result"
    }
   ],
   "source": [
    "def my_func(*args):\n",
    "    print(type(args))\n",
    "    return args\n",
    "\n",
    "my_func(1,2,3,4)"
   ]
  },
  {
   "cell_type": "code",
   "execution_count": 15,
   "id": "88b90339",
   "metadata": {},
   "outputs": [],
   "source": [
    "def sum_func(*args):\n",
    "    x=0\n",
    "    for num in args:\n",
    "        x+=num #x=x+m\n",
    "    return x"
   ]
  },
  {
   "cell_type": "code",
   "execution_count": 16,
   "id": "85935e9e",
   "metadata": {},
   "outputs": [
    {
     "data": {
      "text/plain": [
       "14"
      ]
     },
     "execution_count": 16,
     "metadata": {},
     "output_type": "execute_result"
    }
   ],
   "source": [
    "sum_func(1,2,2,4,5)"
   ]
  },
  {
   "cell_type": "code",
   "execution_count": 17,
   "id": "a935b059",
   "metadata": {},
   "outputs": [],
   "source": [
    "def sum_func(*args):\n",
    "    x=0\n",
    "    for num in args:\n",
    "        x+=num #x=x+m\n",
    "    return x"
   ]
  },
  {
   "cell_type": "code",
   "execution_count": 18,
   "id": "8f2b3a84",
   "metadata": {},
   "outputs": [
    {
     "data": {
      "text/plain": [
       "69"
      ]
     },
     "execution_count": 18,
     "metadata": {},
     "output_type": "execute_result"
    }
   ],
   "source": [
    "sum_func(1,2,3,5,32,2,2,22)"
   ]
  },
  {
   "cell_type": "code",
   "execution_count": 19,
   "id": "cb833817",
   "metadata": {},
   "outputs": [],
   "source": [
    "def key_word_func(**kwargs):\n",
    "    print(type(kwargs))\n",
    "    return kwargs"
   ]
  },
  {
   "cell_type": "code",
   "execution_count": 20,
   "id": "48ec1481",
   "metadata": {},
   "outputs": [
    {
     "name": "stdout",
     "output_type": "stream",
     "text": [
      "<class 'dict'>\n"
     ]
    },
    {
     "data": {
      "text/plain": [
       "{'name': 'Linda', 'age': 52}"
      ]
     },
     "execution_count": 20,
     "metadata": {},
     "output_type": "execute_result"
    }
   ],
   "source": [
    "key_word_func(name='Linda', age=52)"
   ]
  },
  {
   "cell_type": "code",
   "execution_count": 21,
   "id": "b9577744",
   "metadata": {},
   "outputs": [
    {
     "data": {
      "text/plain": [
       "'My Name is John and my favourite food is pizza'"
      ]
     },
     "execution_count": 21,
     "metadata": {},
     "output_type": "execute_result"
    }
   ],
   "source": [
    "def key_word_func(**kwargs):\n",
    "    if 'food' in kwargs:\n",
    "        return f\"My Name is {kwargs['name']} and my favourite food is {kwargs['food']}\"\n",
    "    else:\n",
    "        return f\"My names is {kwargs['name']} and I have no favourite food\"\n",
    "    \n",
    "key_word_func(name='John', food='pizza')"
   ]
  },
  {
   "cell_type": "code",
   "execution_count": 23,
   "id": "be48940f",
   "metadata": {},
   "outputs": [
    {
     "data": {
      "text/plain": [
       "'My names is John and I have no favourite food'"
      ]
     },
     "execution_count": 23,
     "metadata": {},
     "output_type": "execute_result"
    }
   ],
   "source": [
    "key_word_func(name = 'John', sport = 'soccer')"
   ]
  },
  {
   "cell_type": "code",
   "execution_count": 24,
   "id": "38934143",
   "metadata": {},
   "outputs": [],
   "source": [
    "def args_kwargs(*args, **kwargs):\n",
    "    print(args)\n",
    "    print(kwargs)"
   ]
  },
  {
   "cell_type": "code",
   "execution_count": 25,
   "id": "844e342d",
   "metadata": {},
   "outputs": [
    {
     "name": "stdout",
     "output_type": "stream",
     "text": [
      "(1, 2, 3, 4, 'random_string')\n",
      "{'sports': 'football', 'age': 33}\n"
     ]
    }
   ],
   "source": [
    "args_kwargs(1,2,3,4, \"random_string\", sports='football', age=33)"
   ]
  },
  {
   "cell_type": "markdown",
   "id": "2ac93e3b",
   "metadata": {},
   "source": [
    "#### 46. Map filter"
   ]
  },
  {
   "cell_type": "code",
   "execution_count": 26,
   "id": "32965cac",
   "metadata": {},
   "outputs": [],
   "source": [
    "countries = ['Argentina', 'United States', 'Uganda', 'Germany']"
   ]
  },
  {
   "cell_type": "code",
   "execution_count": 27,
   "id": "bc83ef1b",
   "metadata": {},
   "outputs": [
    {
     "name": "stdout",
     "output_type": "stream",
     "text": [
      "9\n",
      "13\n",
      "6\n",
      "7\n"
     ]
    }
   ],
   "source": [
    "for x in countries:\n",
    "    print(len(x))"
   ]
  },
  {
   "cell_type": "code",
   "execution_count": 29,
   "id": "0d12c2ab",
   "metadata": {},
   "outputs": [
    {
     "data": {
      "text/plain": [
       "[9, 13, 6, 7]"
      ]
     },
     "execution_count": 29,
     "metadata": {},
     "output_type": "execute_result"
    }
   ],
   "source": [
    "list(map(len, countries))"
   ]
  },
  {
   "cell_type": "code",
   "execution_count": 30,
   "id": "3fb6a53b",
   "metadata": {},
   "outputs": [
    {
     "name": "stdout",
     "output_type": "stream",
     "text": [
      "9\n",
      "13\n",
      "6\n",
      "7\n"
     ]
    }
   ],
   "source": [
    "for x in map(len, countries):\n",
    "    print(x)"
   ]
  },
  {
   "cell_type": "code",
   "execution_count": 31,
   "id": "c0a92100",
   "metadata": {},
   "outputs": [],
   "source": [
    "def return_len(x):\n",
    "    return f' {x}: {len(x)}'"
   ]
  },
  {
   "cell_type": "code",
   "execution_count": 32,
   "id": "d12e720b",
   "metadata": {},
   "outputs": [
    {
     "data": {
      "text/plain": [
       "' Hello: 5'"
      ]
     },
     "execution_count": 32,
     "metadata": {},
     "output_type": "execute_result"
    }
   ],
   "source": [
    "return_len('Hello')"
   ]
  },
  {
   "cell_type": "code",
   "execution_count": 33,
   "id": "fe0425af",
   "metadata": {},
   "outputs": [
    {
     "data": {
      "text/plain": [
       "[' Argentina: 9', ' United States: 13', ' Uganda: 6', ' Germany: 7']"
      ]
     },
     "execution_count": 33,
     "metadata": {},
     "output_type": "execute_result"
    }
   ],
   "source": [
    "list(map(return_len, countries))"
   ]
  },
  {
   "cell_type": "markdown",
   "id": "31fd9d04",
   "metadata": {},
   "source": [
    "#### Filter"
   ]
  },
  {
   "cell_type": "code",
   "execution_count": 34,
   "id": "a9d6772d",
   "metadata": {},
   "outputs": [],
   "source": [
    "countries_list = ['Argentina', 'Mexico', 'Brazil', 99]"
   ]
  },
  {
   "cell_type": "code",
   "execution_count": 35,
   "id": "ae757493",
   "metadata": {},
   "outputs": [
    {
     "data": {
      "text/plain": [
       "False"
      ]
     },
     "execution_count": 35,
     "metadata": {},
     "output_type": "execute_result"
    }
   ],
   "source": [
    "def is_str(x):\n",
    "    return type(x) == str\n",
    "\n",
    "is_str(2)"
   ]
  },
  {
   "cell_type": "code",
   "execution_count": 36,
   "id": "0328e1c2",
   "metadata": {},
   "outputs": [
    {
     "data": {
      "text/plain": [
       "True"
      ]
     },
     "execution_count": 36,
     "metadata": {},
     "output_type": "execute_result"
    }
   ],
   "source": [
    "is_str('Argentina')"
   ]
  },
  {
   "cell_type": "code",
   "execution_count": 37,
   "id": "b2c90aed",
   "metadata": {},
   "outputs": [
    {
     "data": {
      "text/plain": [
       "['Argentina', 'Mexico', 'Brazil']"
      ]
     },
     "execution_count": 37,
     "metadata": {},
     "output_type": "execute_result"
    }
   ],
   "source": [
    "list(filter(is_str, countries_list))"
   ]
  },
  {
   "cell_type": "markdown",
   "id": "2e7bd14a",
   "metadata": {},
   "source": [
    "#### 47. Lambda Expressions"
   ]
  },
  {
   "cell_type": "code",
   "execution_count": 38,
   "id": "abc852a7",
   "metadata": {},
   "outputs": [],
   "source": [
    "list_1 = ['Argentina', 'Mexico', 'Brazil', 99]"
   ]
  },
  {
   "cell_type": "code",
   "execution_count": 39,
   "id": "187c96be",
   "metadata": {},
   "outputs": [],
   "source": [
    "def is_str(x):\n",
    "    return type (x) == str"
   ]
  },
  {
   "cell_type": "code",
   "execution_count": 40,
   "id": "4fc46be6",
   "metadata": {},
   "outputs": [
    {
     "data": {
      "text/plain": [
       "['Argentina', 'Mexico', 'Brazil']"
      ]
     },
     "execution_count": 40,
     "metadata": {},
     "output_type": "execute_result"
    }
   ],
   "source": [
    "list(filter(is_str, list_1))"
   ]
  },
  {
   "cell_type": "code",
   "execution_count": 43,
   "id": "0410b908",
   "metadata": {},
   "outputs": [
    {
     "data": {
      "text/plain": [
       "<function __main__.<lambda>(x)>"
      ]
     },
     "execution_count": 43,
     "metadata": {},
     "output_type": "execute_result"
    }
   ],
   "source": [
    "lambda x: type(x)==str"
   ]
  },
  {
   "cell_type": "code",
   "execution_count": 44,
   "id": "9f4531d6",
   "metadata": {},
   "outputs": [
    {
     "data": {
      "text/plain": [
       "['Argentina', 'Mexico', 'Brazil']"
      ]
     },
     "execution_count": 44,
     "metadata": {},
     "output_type": "execute_result"
    }
   ],
   "source": [
    "list(filter(lambda x: type(x)==str,list_1))"
   ]
  },
  {
   "cell_type": "code",
   "execution_count": 45,
   "id": "c062364f",
   "metadata": {},
   "outputs": [],
   "source": [
    "list_2 = [1,2,3,4,5,6]"
   ]
  },
  {
   "cell_type": "code",
   "execution_count": 49,
   "id": "898b51e0",
   "metadata": {},
   "outputs": [],
   "source": [
    "def func_multiply(x):\n",
    "    return x*2"
   ]
  },
  {
   "cell_type": "code",
   "execution_count": 51,
   "id": "8a333128",
   "metadata": {},
   "outputs": [
    {
     "data": {
      "text/plain": [
       "[2, 4, 6, 8, 10, 12]"
      ]
     },
     "execution_count": 51,
     "metadata": {},
     "output_type": "execute_result"
    }
   ],
   "source": [
    "list(map(func_multiply,list_2))"
   ]
  },
  {
   "cell_type": "code",
   "execution_count": 53,
   "id": "39393509",
   "metadata": {},
   "outputs": [
    {
     "data": {
      "text/plain": [
       "[2, 4, 6, 8, 10, 12]"
      ]
     },
     "execution_count": 53,
     "metadata": {},
     "output_type": "execute_result"
    }
   ],
   "source": [
    "list(map(lambda x: x*2, list_2))"
   ]
  },
  {
   "cell_type": "code",
   "execution_count": 55,
   "id": "ca7fcea7",
   "metadata": {},
   "outputs": [],
   "source": [
    "def if_multiply(x):\n",
    "    if x>3:\n",
    "        return x*2\n",
    "    else:\n",
    "        return x"
   ]
  },
  {
   "cell_type": "code",
   "execution_count": 57,
   "id": "b3b592a5",
   "metadata": {},
   "outputs": [
    {
     "data": {
      "text/plain": [
       "[1, 2, 3, 8, 10, 12]"
      ]
     },
     "execution_count": 57,
     "metadata": {},
     "output_type": "execute_result"
    }
   ],
   "source": [
    "list(map(if_multiply, list_2))"
   ]
  },
  {
   "cell_type": "code",
   "execution_count": 59,
   "id": "e6fff4d7",
   "metadata": {},
   "outputs": [
    {
     "data": {
      "text/plain": [
       "[99, 88, 55, 66, 44]"
      ]
     },
     "execution_count": 59,
     "metadata": {},
     "output_type": "execute_result"
    }
   ],
   "source": [
    "# Do not overwrite\n",
    "list_1 = [99,88,2,3,55,66,7,44,10]\n",
    "\n",
    "# Write your code here\n",
    "list_filtered = list(filter(lambda x: x > 10, list_1))\n",
    "list_filtered"
   ]
  },
  {
   "cell_type": "markdown",
   "id": "2d2ef4e8",
   "metadata": {},
   "source": [
    "#### 49. Error"
   ]
  },
  {
   "cell_type": "code",
   "execution_count": 69,
   "id": "a02615c1",
   "metadata": {},
   "outputs": [
    {
     "name": "stdout",
     "output_type": "stream",
     "text": [
      "You can not divide by 0\n",
      "This will allways print\n"
     ]
    }
   ],
   "source": [
    "try:\n",
    "    print(100/0)\n",
    "except ZeroDivisionError: #setting the error \n",
    "    print(\"You can not divide by 0\")\n",
    "except TypeError: #setting another error\n",
    "    print('Incompatable types')\n",
    "else:\n",
    "    print('Everything went well')\n",
    "finally:\n",
    "    print(\"This will allways print\")"
   ]
  }
 ],
 "metadata": {
  "kernelspec": {
   "display_name": "Python 3 (ipykernel)",
   "language": "python",
   "name": "python3"
  },
  "language_info": {
   "codemirror_mode": {
    "name": "ipython",
    "version": 3
   },
   "file_extension": ".py",
   "mimetype": "text/x-python",
   "name": "python",
   "nbconvert_exporter": "python",
   "pygments_lexer": "ipython3",
   "version": "3.9.7"
  }
 },
 "nbformat": 4,
 "nbformat_minor": 5
}
