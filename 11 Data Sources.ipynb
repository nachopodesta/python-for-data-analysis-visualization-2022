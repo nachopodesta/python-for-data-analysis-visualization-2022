{
 "cells": [
  {
   "cell_type": "markdown",
   "id": "2bf2c235",
   "metadata": {},
   "source": [
    "### 79. HTML"
   ]
  },
  {
   "cell_type": "code",
   "execution_count": 1,
   "id": "d54235b7",
   "metadata": {},
   "outputs": [],
   "source": [
    "import pandas as pd"
   ]
  },
  {
   "cell_type": "code",
   "execution_count": 3,
   "id": "f7810c8b",
   "metadata": {},
   "outputs": [],
   "source": [
    "url = 'https://en.wikipedia.org/wiki/List_of_highest-grossing_films'"
   ]
  },
  {
   "cell_type": "code",
   "execution_count": 4,
   "id": "f842c3ed",
   "metadata": {},
   "outputs": [],
   "source": [
    "movies = pd.read_html(url)\n",
    "#movies = pd.read_html(url, match='Highest-grossing films as of 2020 adjusted for inflation')"
   ]
  },
  {
   "cell_type": "code",
   "execution_count": 5,
   "id": "0efc8cf9",
   "metadata": {},
   "outputs": [
    {
     "data": {
      "text/plain": [
       "list"
      ]
     },
     "execution_count": 5,
     "metadata": {},
     "output_type": "execute_result"
    }
   ],
   "source": [
    "type(movies)"
   ]
  },
  {
   "cell_type": "code",
   "execution_count": 16,
   "id": "1610195e",
   "metadata": {},
   "outputs": [
    {
     "data": {
      "text/html": [
       "<div>\n",
       "<style scoped>\n",
       "    .dataframe tbody tr th:only-of-type {\n",
       "        vertical-align: middle;\n",
       "    }\n",
       "\n",
       "    .dataframe tbody tr th {\n",
       "        vertical-align: top;\n",
       "    }\n",
       "\n",
       "    .dataframe thead th {\n",
       "        text-align: right;\n",
       "    }\n",
       "</style>\n",
       "<table border=\"1\" class=\"dataframe\">\n",
       "  <thead>\n",
       "    <tr style=\"text-align: right;\">\n",
       "      <th></th>\n",
       "      <th>Rank</th>\n",
       "      <th>Title</th>\n",
       "      <th>Worldwide gross(2020 $)</th>\n",
       "      <th>Year</th>\n",
       "    </tr>\n",
       "  </thead>\n",
       "  <tbody>\n",
       "    <tr>\n",
       "      <th>0</th>\n",
       "      <td>1</td>\n",
       "      <td>Gone with the Wind</td>\n",
       "      <td>$3,724,000,000</td>\n",
       "      <td>1939</td>\n",
       "    </tr>\n",
       "    <tr>\n",
       "      <th>1</th>\n",
       "      <td>2</td>\n",
       "      <td>Avatar</td>\n",
       "      <td>A$3,273,000,000</td>\n",
       "      <td>2009</td>\n",
       "    </tr>\n",
       "    <tr>\n",
       "      <th>2</th>\n",
       "      <td>3</td>\n",
       "      <td>Titanic</td>\n",
       "      <td>T$3,096,000,000</td>\n",
       "      <td>1997</td>\n",
       "    </tr>\n",
       "    <tr>\n",
       "      <th>3</th>\n",
       "      <td>4</td>\n",
       "      <td>Star Wars</td>\n",
       "      <td>$3,059,000,000</td>\n",
       "      <td>1977</td>\n",
       "    </tr>\n",
       "    <tr>\n",
       "      <th>4</th>\n",
       "      <td>5</td>\n",
       "      <td>Avengers: Endgame</td>\n",
       "      <td>AE$2,811,000,000</td>\n",
       "      <td>2019</td>\n",
       "    </tr>\n",
       "    <tr>\n",
       "      <th>5</th>\n",
       "      <td>6</td>\n",
       "      <td>The Sound of Music</td>\n",
       "      <td>$2,562,000,000</td>\n",
       "      <td>1965</td>\n",
       "    </tr>\n",
       "    <tr>\n",
       "      <th>6</th>\n",
       "      <td>7</td>\n",
       "      <td>E.T. the Extra-Terrestrial</td>\n",
       "      <td>$2,501,000,000</td>\n",
       "      <td>1982</td>\n",
       "    </tr>\n",
       "    <tr>\n",
       "      <th>7</th>\n",
       "      <td>8</td>\n",
       "      <td>The Ten Commandments</td>\n",
       "      <td>$2,368,000,000</td>\n",
       "      <td>1956</td>\n",
       "    </tr>\n",
       "    <tr>\n",
       "      <th>8</th>\n",
       "      <td>9</td>\n",
       "      <td>Doctor Zhivago</td>\n",
       "      <td>$2,244,000,000</td>\n",
       "      <td>1965</td>\n",
       "    </tr>\n",
       "    <tr>\n",
       "      <th>9</th>\n",
       "      <td>10</td>\n",
       "      <td>Star Wars: The Force Awakens</td>\n",
       "      <td>$2,213,000,000</td>\n",
       "      <td>2015</td>\n",
       "    </tr>\n",
       "  </tbody>\n",
       "</table>\n",
       "</div>"
      ],
      "text/plain": [
       "   Rank                         Title Worldwide gross(2020 $)  Year\n",
       "0     1            Gone with the Wind          $3,724,000,000  1939\n",
       "1     2                        Avatar         A$3,273,000,000  2009\n",
       "2     3                       Titanic         T$3,096,000,000  1997\n",
       "3     4                     Star Wars          $3,059,000,000  1977\n",
       "4     5             Avengers: Endgame        AE$2,811,000,000  2019\n",
       "5     6            The Sound of Music          $2,562,000,000  1965\n",
       "6     7    E.T. the Extra-Terrestrial          $2,501,000,000  1982\n",
       "7     8          The Ten Commandments          $2,368,000,000  1956\n",
       "8     9                Doctor Zhivago          $2,244,000,000  1965\n",
       "9    10  Star Wars: The Force Awakens          $2,213,000,000  2015"
      ]
     },
     "execution_count": 16,
     "metadata": {},
     "output_type": "execute_result"
    }
   ],
   "source": [
    "movies[1]"
   ]
  },
  {
   "cell_type": "code",
   "execution_count": 19,
   "id": "b1af603c",
   "metadata": {},
   "outputs": [],
   "source": [
    "timeline = pd.read_html(url, match='Timeline of the highest-grossing film record')"
   ]
  },
  {
   "cell_type": "code",
   "execution_count": 20,
   "id": "5a348d43",
   "metadata": {},
   "outputs": [
    {
     "data": {
      "text/plain": [
       "[     Established                       Title        Record setting gross  \\\n",
       " 0       1915[56]       The Birth of a Nation                 $5,200,000R   \n",
       " 1           1940       The Birth of a Nation              $15,000,000R ‡   \n",
       " 2       1940[28]          Gone with the Wind                $32,000,000R   \n",
       " 3           1963          Gone with the Wind              $67,000,000R ‡   \n",
       " 4       1966[56]          The Sound of Music               $114,600,000R   \n",
       " 5       1971[56]          Gone with the Wind             $116,000,000R ‡   \n",
       " 6       1972[56]               The Godfather   $127,600,000–142,000,000R   \n",
       " 7   1976[79][80]                        Jaws               $193,700,000R   \n",
       " 8   1978[81][82]                   Star Wars  $410,000,000/$268,500,000R   \n",
       " 9           1982                   Star Wars              $530,000,000 ‡   \n",
       " 10      1983[83]  E.T. the Extra-Terrestrial    $619,000,000–664,000,000   \n",
       " 11          1993  E.T. the Extra-Terrestrial              $701,000,000 ‡   \n",
       " 12      1993[56]               Jurassic Park                $914,691,118   \n",
       " 13      1998[84]                     Titanic              $1,843,201,268   \n",
       " 14  2010[85][86]                      Avatar              $2,743,577,587   \n",
       " 15  2010[85][86]                      Avatar            $2,788,416,135 ‡   \n",
       " 16  2019[87][88]           Avengers: Endgame              $2,797,501,328   \n",
       " 17      2021[89]                      Avatar            $2,847,397,339 ‡   \n",
       " \n",
       "       Reference(s)  \n",
       " 0           [# 83]  \n",
       " 1          [# 303]  \n",
       " 2          [# 133]  \n",
       " 3          [# 304]  \n",
       " 4          [# 208]  \n",
       " 5          [# 305]  \n",
       " 6   [# 234][# 306]  \n",
       " 7          [# 249]  \n",
       " 8   [# 307][# 234]  \n",
       " 9          [# 254]  \n",
       " 10  [# 254][# 266]  \n",
       " 11         [# 308]  \n",
       " 12          [# 65]  \n",
       " 13           [# 5]  \n",
       " 14           [# 1]  \n",
       " 15           [# 1]  \n",
       " 16           [# 3]  \n",
       " 17           [# 1]  ]"
      ]
     },
     "execution_count": 20,
     "metadata": {},
     "output_type": "execute_result"
    }
   ],
   "source": [
    "timeline"
   ]
  },
  {
   "cell_type": "markdown",
   "id": "0eb19673",
   "metadata": {},
   "source": [
    "### 80. Databases"
   ]
  },
  {
   "cell_type": "code",
   "execution_count": 21,
   "id": "13670fd6",
   "metadata": {},
   "outputs": [],
   "source": [
    "#PyMySQL library"
   ]
  },
  {
   "cell_type": "code",
   "execution_count": 22,
   "id": "482621d2",
   "metadata": {},
   "outputs": [],
   "source": [
    "#pandas.read_sql(sql, conection)"
   ]
  },
  {
   "cell_type": "code",
   "execution_count": 25,
   "id": "1f32c670",
   "metadata": {},
   "outputs": [
    {
     "name": "stdout",
     "output_type": "stream",
     "text": [
      "Requirement already satisfied: pymysql in c:\\programdata\\anaconda3\\lib\\site-packages (1.0.2)\n"
     ]
    }
   ],
   "source": [
    "!pip install pymysql"
   ]
  },
  {
   "cell_type": "code",
   "execution_count": 26,
   "id": "3a900eea",
   "metadata": {},
   "outputs": [],
   "source": [
    "import pandas as pd\n",
    "import pymysql"
   ]
  },
  {
   "cell_type": "code",
   "execution_count": 27,
   "id": "898253a0",
   "metadata": {
    "collapsed": true
   },
   "outputs": [
    {
     "ename": "NameError",
     "evalue": "name 'pw' is not defined",
     "output_type": "error",
     "traceback": [
      "\u001b[1;31m---------------------------------------------------------------------------\u001b[0m",
      "\u001b[1;31mNameError\u001b[0m                                 Traceback (most recent call last)",
      "\u001b[1;32mC:\\Users\\IGNACI~1\\AppData\\Local\\Temp/ipykernel_20084/3958802598.py\u001b[0m in \u001b[0;36m<module>\u001b[1;34m\u001b[0m\n\u001b[0;32m      1\u001b[0m con = pymysql.connect(host='localhost',\n\u001b[0;32m      2\u001b[0m                       \u001b[0muser\u001b[0m\u001b[1;33m=\u001b[0m\u001b[1;34m'root'\u001b[0m\u001b[1;33m,\u001b[0m\u001b[1;33m\u001b[0m\u001b[1;33m\u001b[0m\u001b[0m\n\u001b[1;32m----> 3\u001b[1;33m                       \u001b[0mpassword\u001b[0m\u001b[1;33m=\u001b[0m\u001b[0mpw\u001b[0m\u001b[1;33m,\u001b[0m\u001b[1;33m\u001b[0m\u001b[1;33m\u001b[0m\u001b[0m\n\u001b[0m\u001b[0;32m      4\u001b[0m                       database='employee')\n",
      "\u001b[1;31mNameError\u001b[0m: name 'pw' is not defined"
     ]
    }
   ],
   "source": [
    "con = pymysql.connect(host='localhost',\n",
    "                      user='root',\n",
    "                      password=pw,\n",
    "                      database='employee')"
   ]
  },
  {
   "cell_type": "code",
   "execution_count": null,
   "id": "03de2817",
   "metadata": {},
   "outputs": [],
   "source": [
    "employees = pd.read_sql('select * from employees.employees', con)"
   ]
  },
  {
   "cell_type": "code",
   "execution_count": null,
   "id": "9c0717e4",
   "metadata": {},
   "outputs": [],
   "source": [
    "employees.head()\n",
    "len(employees)"
   ]
  },
  {
   "cell_type": "markdown",
   "id": "d32610f8",
   "metadata": {},
   "source": [
    "### 81. Pandas Input and Output Methods"
   ]
  },
  {
   "cell_type": "code",
   "execution_count": null,
   "id": "2d5d13ce",
   "metadata": {},
   "outputs": [],
   "source": []
  },
  {
   "cell_type": "code",
   "execution_count": null,
   "id": "7cd626b8",
   "metadata": {},
   "outputs": [],
   "source": []
  }
 ],
 "metadata": {
  "kernelspec": {
   "display_name": "Python 3 (ipykernel)",
   "language": "python",
   "name": "python3"
  },
  "language_info": {
   "codemirror_mode": {
    "name": "ipython",
    "version": 3
   },
   "file_extension": ".py",
   "mimetype": "text/x-python",
   "name": "python",
   "nbconvert_exporter": "python",
   "pygments_lexer": "ipython3",
   "version": "3.9.7"
  }
 },
 "nbformat": 4,
 "nbformat_minor": 5
}
